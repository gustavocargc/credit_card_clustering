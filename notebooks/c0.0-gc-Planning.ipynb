{
 "cells": [
  {
   "cell_type": "markdown",
   "metadata": {},
   "source": [
    "# PA006: Credit Card Dataset for Clustering"
   ]
  },
  {
   "cell_type": "markdown",
   "id": "11a90148",
   "metadata": {},
   "source": [
    "# International Bank\n",
    "    O International Bank é um banco internacional que fornece produtos financeiros como empréstimos,\n",
    "    contas correntes, contas poupança, opções de investimentos,cartões de crédito e etc.\n",
    "\n",
    "    A cada quarter do ano, os líderes se reúnem para decidir os objetivos da empresa para os próximos 3 meses.\n",
    "\n",
    "    Nessa última reunião, uma das metas decididas é a criação de uma estratégia de marketing para abordar os clientes que usam cartão de crédito.\n",
    "\n",
    "    A empresa possui um conjunto de dados sobre o comportamento de uso de aproximadamente 9000 usuários de cartão de crédito ativos,\n",
    "    durante os últimos 6 meses e o arquivo está no nível de clientes e possui 18 variáveis comportamentais."
   ]
  },
  {
   "cell_type": "markdown",
   "metadata": {},
   "source": [
    "# 0.0 Planejamento da Solução"
   ]
  },
  {
   "cell_type": "markdown",
   "metadata": {},
   "source": [
    "## Input"
   ]
  },
  {
   "cell_type": "markdown",
   "id": "83d4d672",
   "metadata": {},
   "source": [
    "        1. Problema de negócio\n",
    "\n",
    "        -> criação de uma estratégia de marketing para abordar os clientes que usam cartão de crédito.\n",
    "\n",
    "        2. Conjunto de dados\n",
    "\n",
    "        -> A empresa possui um conjunto de dados sobre o comportamento de\n",
    "         uso de aproximadamente 9000 usuários de cartão de crédito ativos, durante os últimos 6 meses"
   ]
  },
  {
   "cell_type": "markdown",
   "metadata": {},
   "source": [
    "## Output"
   ]
  },
  {
   "cell_type": "markdown",
   "metadata": {},
   "source": [
    "1 - Definir uma  estratégia de marketing ideal para cada tipo de cliente\n",
    "\n",
    "    -> Relatório com as respostas das perguntas do negócio\n",
    "\n",
    "            1. Qual tipo de marketing ideal para cada grupo de clientes?\n",
    "            2. Quais serão os grupos de clientes?\n",
    "            3. Qual grupo de clientes é mais rentável?\n",
    "            4. Qual grupo de clientes possui a maior frequencia de compras?\n",
    "            5. Qual grupo de cliente gastam mais?\n",
    "            6. Clientes mais antigos gastam mais?\n",
    "            7. Clientes pagam a fatura cheia ou parcelada?\n",
    "            8. Clientes com maior limite de credito gastam mais ?\n",
    "            9. Quais ações o time de marketing pode realizar para aumentar o faturamento?"
   ]
  },
  {
   "cell_type": "markdown",
   "metadata": {},
   "source": [
    "## Tasks"
   ]
  },
  {
   "cell_type": "markdown",
   "metadata": {},
   "source": [
    "    1 - Criar uma segmentação de clientes baseado em critérios claros de seleção.\n",
    "\n",
    "    2 - Tornar a segmentação de clientes acessível para o time de operações.\n",
    "\n",
    "    3 - Ensinar o time de operações sobre como usar a sua solução.\n",
    "\n",
    "    4 - Transferir o conhecimento para os Cientistas de Dados da International Bank.\n",
    "\n",
    "    5 - Recomendar 2-3 alavancas de negócio para cada segmento de clientes"
   ]
  },
  {
   "cell_type": "markdown",
   "metadata": {},
   "source": [
    "## Benchmark de Soluções"
   ]
  },
  {
   "cell_type": "markdown",
   "metadata": {},
   "source": [
    "How Do Credit Card Companies Make Money?\n",
    "\n",
    "interest -> Issuers typically charge interest only when you carry a balance from month to month.\n",
    "    \n",
    "fees charged to cardholders -> Annual fees / Cash advance fees / Balance transfer fees / Late fees\n",
    "\n",
    "transaction fees paid by businesses that accept credit cards. -> interchange,” and is usually about 1% to 3% of the transaction.\n"
   ]
  },
  {
   "cell_type": "markdown",
   "metadata": {},
   "source": [
    "## Data Field"
   ]
  },
  {
   "cell_type": "markdown",
   "metadata": {},
   "source": [
    "CUSTID: Identification of Credit Card holder (Categorical)\n",
    "\n",
    "BALANCE: Balance amount left in their account to make purchases\n",
    "\n",
    "BALANCEFREQUENCY: How frequently the Balance is updated, score between 0 and 1 (1 = frequently updated, 0 = not frequently updated)\n",
    "\n",
    "PURCHASES: Amount of purchases made from account\n",
    "\n",
    "ONEOFFPURCHASES: Maximum purchase amount done in one-go\n",
    "\n",
    "INSTALLMENTSPURCHASES: Amount of purchase done in installment\n",
    "\n",
    "CASHADVANCE: Cash in advance given by the user\n",
    "\n",
    "PURCHASESFREQUENCY: How frequently the Purchases are being made, score between 0 and 1 (1 = frequently purchased, 0 = not frequently purchased) -----> purchases_frequency = purchases_trx  / tenure <-----\n",
    "\n",
    "ONEOFFPURCHASESFREQUENCY: How frequently Purchases are happening in one-go (1 = frequently purchased, 0 = not frequently purchased)\n",
    "\n",
    "PURCHASESINSTALLMENTSFREQUENCY: How frequently purchases in installments are being done (1 = frequently done, 0 = not frequently done)\n",
    "\n",
    "CASHADVANCEFREQUENCY: How frequently the cash in advance being paid -----> cash_advance_frequency = cash_advance_trx / tenure <-----\n",
    "\n",
    "CASHADVANCETRX: Number of Transactions made with \"Cash in Advanced\"\n",
    "\n",
    "PURCHASESTRX: Number of purchase transactions made\n",
    "\n",
    "CREDITLIMIT: Limit of Credit Card for userPAYMENTS: Amount of Payment done by user\n",
    "\n",
    "MINIMUM_PAYMENTS: Minimum amount of payments made by user\n",
    "\n",
    "PRCFULLPAYMENT: Percent of full payment paid by user\n",
    "\n",
    "TENURE: Tenure of credit card service for user"
   ]
  }
 ],
 "metadata": {
  "hide_input": false,
  "interpreter": {
   "hash": "a9ca4e71067c79ac42447b325c829b70f15b9ca9e8b0d165bf304148d1e80458"
  },
  "kernelspec": {
   "display_name": "Python 3 (ipykernel)",
   "language": "python",
   "name": "python3"
  },
  "language_info": {
   "codemirror_mode": {
    "name": "ipython",
    "version": 3
   },
   "file_extension": ".py",
   "mimetype": "text/x-python",
   "name": "python",
   "nbconvert_exporter": "python",
   "pygments_lexer": "ipython3",
   "version": "3.9.10"
  },
  "toc": {
   "base_numbering": 1,
   "nav_menu": {},
   "number_sections": true,
   "sideBar": true,
   "skip_h1_title": false,
   "title_cell": "Table of Contents",
   "title_sidebar": "Contents",
   "toc_cell": false,
   "toc_position": {},
   "toc_section_display": true,
   "toc_window_display": false
  }
 },
 "nbformat": 4,
 "nbformat_minor": 2
}
