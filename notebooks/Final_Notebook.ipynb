{
 "cells": [
  {
   "cell_type": "markdown",
   "metadata": {},
   "source": [
    "<b> <font size=\"6\"> PA006: Credit Card Dataset for Clustering </font></b>"
   ]
  },
  {
   "cell_type": "markdown",
   "metadata": {},
   "source": [
    "# Imports"
   ]
  },
  {
   "cell_type": "code",
   "execution_count": 1,
   "metadata": {
    "ExecuteTime": {
     "end_time": "2022-05-17T12:02:04.475656Z",
     "start_time": "2022-05-17T12:01:07.759043Z"
    }
   },
   "outputs": [],
   "source": [
    "import pandas as pd\n",
    "import numpy as np\n",
    "import inflection\n",
    "from IPython.core.display  import HTML\n",
    "from sklearn import metrics as mt\n",
    "from sklearn import preprocessing as pp\n",
    "\n",
    "# EDA\n",
    "from pandas_profiling import ProfileReport\n",
    "import sweetviz as sv\n",
    "\n",
    "# visualization\n",
    "from matplotlib import pyplot as plt\n",
    "import seaborn as sns\n",
    "import plotly.express as px\n",
    "\n",
    "# Models\n",
    "from sklearn import ensemble as en\n",
    "from sklearn import cluster as cl\n",
    "from sklearn import mixture as mx\n",
    "from sklearn.neighbors import NearestNeighbors\n",
    "from sklearn.ensemble import ExtraTreesClassifier\n",
    "\n",
    "# Reducers\n",
    "from sklearn.decomposition import PCA\n",
    "from sklearn.decomposition import KernelPCA as kpca\n",
    "from sklearn               import manifold as mn\n",
    "import umap.umap_ as umap\n",
    "\n",
    "# Silhouette Visualizer\n",
    "from yellowbrick.cluster import SilhouetteVisualizer\n",
    "from yellowbrick.cluster import KElbowVisualizer\n",
    "\n",
    "from sklearn.preprocessing import normalize"
   ]
  },
  {
   "cell_type": "markdown",
   "metadata": {},
   "source": [
    "## Helper Functions"
   ]
  },
  {
   "cell_type": "code",
   "execution_count": 2,
   "metadata": {
    "ExecuteTime": {
     "end_time": "2022-05-17T12:02:04.659900Z",
     "start_time": "2022-05-17T12:02:04.486661Z"
    }
   },
   "outputs": [
    {
     "name": "stdout",
     "output_type": "stream",
     "text": [
      "Populating the interactive namespace from numpy and matplotlib\n"
     ]
    },
    {
     "data": {
      "text/html": [
       "<style>.container {width:100% !important;}</style>"
      ],
      "text/plain": [
       "<IPython.core.display.HTML object>"
      ]
     },
     "metadata": {},
     "output_type": "display_data"
    }
   ],
   "source": [
    "def jupyter_settings():\n",
    "    %matplotlib inline\n",
    "    %pylab inline\n",
    "    \n",
    "    plt.style.use('bmh')\n",
    "    plt.rcParams['figure.figsize'] = [15, 10]\n",
    "    plt.rcParams['font.size'] = 25\n",
    "    \n",
    "    display(HTML( '<style>.container {width:100% !important;}</style>'))\n",
    "    pd.options.display.max_columns = None\n",
    "    pd.options.display.max_rows = None\n",
    "    pd.set_option('display.expand_frame_repr', False)\n",
    "            \n",
    "    sns.set()\n",
    "    \n",
    "jupyter_settings ()"
   ]
  },
  {
   "cell_type": "markdown",
   "metadata": {},
   "source": [
    "## Loading data"
   ]
  },
  {
   "cell_type": "code",
   "execution_count": 3,
   "metadata": {
    "ExecuteTime": {
     "end_time": "2022-05-17T12:02:04.800134Z",
     "start_time": "2022-05-17T12:02:04.663044Z"
    }
   },
   "outputs": [],
   "source": [
    "df_raw = pd.read_csv('C:/Users/DML1WFE/repos/projects/pa006_bank_marketing_strategy/bank_marketing_stretegy/data/raw/CCGENERAL.csv')"
   ]
  },
  {
   "cell_type": "markdown",
   "metadata": {},
   "source": [
    "# Data Description"
   ]
  },
  {
   "cell_type": "code",
   "execution_count": 4,
   "metadata": {
    "ExecuteTime": {
     "end_time": "2022-05-17T12:02:04.815576Z",
     "start_time": "2022-05-17T12:02:04.803030Z"
    }
   },
   "outputs": [],
   "source": [
    "df01 = df_raw.copy()"
   ]
  },
  {
   "cell_type": "markdown",
   "metadata": {},
   "source": [
    "## Columns Rename"
   ]
  },
  {
   "cell_type": "code",
   "execution_count": 5,
   "metadata": {
    "ExecuteTime": {
     "end_time": "2022-05-17T12:02:04.830643Z",
     "start_time": "2022-05-17T12:02:04.819131Z"
    }
   },
   "outputs": [],
   "source": [
    "old_cols = ['CUST_ID', 'BALANCE', 'BALANCE_FREQUENCY', 'PURCHASES',\n",
    "            'ONEOFF_PURCHASES', 'INSTALLMENTS_PURCHASES', 'CASH_ADVANCE',\n",
    "            'PURCHASES_FREQUENCY', 'ONEOFF_PURCHASES_FREQUENCY',\n",
    "            'PURCHASES_INSTALLMENTS_FREQUENCY', 'CASH_ADVANCE_FREQUENCY',\n",
    "            'CASH_ADVANCE_TRX', 'PURCHASES_TRX', 'CREDIT_LIMIT', 'PAYMENTS',\n",
    "            'MINIMUM_PAYMENTS', 'PRC_FULL_PAYMENT', 'TENURE']\n",
    "\n",
    "snakecase = lambda x: inflection.underscore(x)\n",
    "\n",
    "cols_new = list(map(snakecase, old_cols))\n",
    "\n",
    "#rename\n",
    "df01.columns = cols_new"
   ]
  },
  {
   "cell_type": "markdown",
   "metadata": {},
   "source": [
    "## Data Dimensions"
   ]
  },
  {
   "cell_type": "code",
   "execution_count": 6,
   "metadata": {
    "ExecuteTime": {
     "end_time": "2022-05-17T12:02:04.845917Z",
     "start_time": "2022-05-17T12:02:04.833948Z"
    }
   },
   "outputs": [
    {
     "name": "stdout",
     "output_type": "stream",
     "text": [
      "Number of rows: 8950\n",
      "Number os columns:18\n"
     ]
    }
   ],
   "source": [
    "print ('Number of rows: {}'.format(df01.shape[0]))\n",
    "print ('Number os columns:{}'.format(df01.shape[1]))"
   ]
  },
  {
   "cell_type": "markdown",
   "metadata": {
    "cell_style": "center"
   },
   "source": [
    "## Data Types"
   ]
  },
  {
   "cell_type": "code",
   "execution_count": 7,
   "metadata": {
    "ExecuteTime": {
     "end_time": "2022-05-17T12:02:04.877776Z",
     "start_time": "2022-05-17T12:02:04.848907Z"
    },
    "cell_style": "center"
   },
   "outputs": [
    {
     "data": {
      "text/plain": [
       "cust_id                              object\n",
       "balance                             float64\n",
       "balance_frequency                   float64\n",
       "purchases                           float64\n",
       "oneoff_purchases                    float64\n",
       "installments_purchases              float64\n",
       "cash_advance                        float64\n",
       "purchases_frequency                 float64\n",
       "oneoff_purchases_frequency          float64\n",
       "purchases_installments_frequency    float64\n",
       "cash_advance_frequency              float64\n",
       "cash_advance_trx                      int64\n",
       "purchases_trx                         int64\n",
       "credit_limit                        float64\n",
       "payments                            float64\n",
       "minimum_payments                    float64\n",
       "prc_full_payment                    float64\n",
       "tenure                                int64\n",
       "dtype: object"
      ]
     },
     "execution_count": 7,
     "metadata": {},
     "output_type": "execute_result"
    }
   ],
   "source": [
    "df01.dtypes"
   ]
  },
  {
   "cell_type": "markdown",
   "metadata": {
    "cell_style": "center"
   },
   "source": [
    "## Check Missing Values"
   ]
  },
  {
   "cell_type": "code",
   "execution_count": 8,
   "metadata": {
    "ExecuteTime": {
     "end_time": "2022-05-17T12:02:04.909906Z",
     "start_time": "2022-05-17T12:02:04.882796Z"
    },
    "cell_style": "center"
   },
   "outputs": [
    {
     "data": {
      "text/plain": [
       "cust_id                             0.000000\n",
       "balance                             0.000000\n",
       "balance_frequency                   0.000000\n",
       "purchases                           0.000000\n",
       "oneoff_purchases                    0.000000\n",
       "installments_purchases              0.000000\n",
       "cash_advance                        0.000000\n",
       "purchases_frequency                 0.000000\n",
       "oneoff_purchases_frequency          0.000000\n",
       "purchases_installments_frequency    0.000000\n",
       "cash_advance_frequency              0.000000\n",
       "cash_advance_trx                    0.000000\n",
       "purchases_trx                       0.000000\n",
       "credit_limit                        0.011173\n",
       "payments                            0.000000\n",
       "minimum_payments                    3.497207\n",
       "prc_full_payment                    0.000000\n",
       "tenure                              0.000000\n",
       "dtype: float64"
      ]
     },
     "execution_count": 8,
     "metadata": {},
     "output_type": "execute_result"
    }
   ],
   "source": [
    "df01.isna().sum() / df01.shape[0] * 100"
   ]
  },
  {
   "cell_type": "markdown",
   "metadata": {},
   "source": [
    "## Replace Missing Values"
   ]
  },
  {
   "cell_type": "code",
   "execution_count": 9,
   "metadata": {
    "ExecuteTime": {
     "end_time": "2022-05-17T12:02:04.941038Z",
     "start_time": "2022-05-17T12:02:04.912888Z"
    }
   },
   "outputs": [],
   "source": [
    "df01['minimum_payments'] = df01['minimum_payments'].fillna(0)\n",
    "df01['credit_limit'] = df01['credit_limit'].fillna(mean)"
   ]
  },
  {
   "cell_type": "code",
   "execution_count": 10,
   "metadata": {
    "ExecuteTime": {
     "end_time": "2022-05-17T12:02:04.971730Z",
     "start_time": "2022-05-17T12:02:04.948791Z"
    }
   },
   "outputs": [
    {
     "data": {
      "text/plain": [
       "cust_id                             0\n",
       "balance                             0\n",
       "balance_frequency                   0\n",
       "purchases                           0\n",
       "oneoff_purchases                    0\n",
       "installments_purchases              0\n",
       "cash_advance                        0\n",
       "purchases_frequency                 0\n",
       "oneoff_purchases_frequency          0\n",
       "purchases_installments_frequency    0\n",
       "cash_advance_frequency              0\n",
       "cash_advance_trx                    0\n",
       "purchases_trx                       0\n",
       "credit_limit                        0\n",
       "payments                            0\n",
       "minimum_payments                    0\n",
       "prc_full_payment                    0\n",
       "tenure                              0\n",
       "dtype: int64"
      ]
     },
     "execution_count": 10,
     "metadata": {},
     "output_type": "execute_result"
    }
   ],
   "source": [
    "df01.isna().sum()"
   ]
  },
  {
   "cell_type": "markdown",
   "metadata": {},
   "source": [
    "## Descriptive Statistics"
   ]
  },
  {
   "cell_type": "code",
   "execution_count": 11,
   "metadata": {
    "ExecuteTime": {
     "end_time": "2022-05-17T12:02:05.018810Z",
     "start_time": "2022-05-17T12:02:04.976779Z"
    }
   },
   "outputs": [],
   "source": [
    "num_attributes = df01.select_dtypes(include = ['float64', 'int64'])\n",
    "cat_attributes = df01.select_dtypes(exclude = ['float64', 'int64', 'datetime64[ns]'])"
   ]
  },
  {
   "cell_type": "markdown",
   "metadata": {},
   "source": [
    "### Numerical Attributes"
   ]
  },
  {
   "cell_type": "code",
   "execution_count": 12,
   "metadata": {
    "ExecuteTime": {
     "end_time": "2022-05-17T12:02:05.284123Z",
     "start_time": "2022-05-17T12:02:05.022797Z"
    }
   },
   "outputs": [
    {
     "data": {
      "text/html": [
       "<div>\n",
       "<style scoped>\n",
       "    .dataframe tbody tr th:only-of-type {\n",
       "        vertical-align: middle;\n",
       "    }\n",
       "\n",
       "    .dataframe tbody tr th {\n",
       "        vertical-align: top;\n",
       "    }\n",
       "\n",
       "    .dataframe thead th {\n",
       "        text-align: right;\n",
       "    }\n",
       "</style>\n",
       "<table border=\"1\" class=\"dataframe\">\n",
       "  <thead>\n",
       "    <tr style=\"text-align: right;\">\n",
       "      <th></th>\n",
       "      <th>attributes</th>\n",
       "      <th>min</th>\n",
       "      <th>max</th>\n",
       "      <th>range</th>\n",
       "      <th>mean</th>\n",
       "      <th>median</th>\n",
       "      <th>std deviation</th>\n",
       "      <th>skewness</th>\n",
       "      <th>kurtosis</th>\n",
       "      <th>P10</th>\n",
       "      <th>P25</th>\n",
       "      <th>P50</th>\n",
       "      <th>P75</th>\n",
       "      <th>P95</th>\n",
       "      <th>P99</th>\n",
       "    </tr>\n",
       "  </thead>\n",
       "  <tbody>\n",
       "    <tr>\n",
       "      <th>0</th>\n",
       "      <td>balance</td>\n",
       "      <td>0.0</td>\n",
       "      <td>19043.13856</td>\n",
       "      <td>19043.13856</td>\n",
       "      <td>1564.474828</td>\n",
       "      <td>873.385231</td>\n",
       "      <td>2081.415590</td>\n",
       "      <td>2.393386</td>\n",
       "      <td>7.674751</td>\n",
       "      <td>23.575529</td>\n",
       "      <td>128.281915</td>\n",
       "      <td>873.385231</td>\n",
       "      <td>2054.140036</td>\n",
       "      <td>5909.111808</td>\n",
       "      <td>9338.804814</td>\n",
       "    </tr>\n",
       "    <tr>\n",
       "      <th>1</th>\n",
       "      <td>balance_frequency</td>\n",
       "      <td>0.0</td>\n",
       "      <td>1.00000</td>\n",
       "      <td>1.00000</td>\n",
       "      <td>0.877271</td>\n",
       "      <td>1.000000</td>\n",
       "      <td>0.236891</td>\n",
       "      <td>-2.023266</td>\n",
       "      <td>3.092370</td>\n",
       "      <td>0.454545</td>\n",
       "      <td>0.888889</td>\n",
       "      <td>1.000000</td>\n",
       "      <td>1.000000</td>\n",
       "      <td>1.000000</td>\n",
       "      <td>1.000000</td>\n",
       "    </tr>\n",
       "    <tr>\n",
       "      <th>2</th>\n",
       "      <td>purchases</td>\n",
       "      <td>0.0</td>\n",
       "      <td>49039.57000</td>\n",
       "      <td>49039.57000</td>\n",
       "      <td>1003.204834</td>\n",
       "      <td>361.280000</td>\n",
       "      <td>2136.515413</td>\n",
       "      <td>8.144269</td>\n",
       "      <td>111.388771</td>\n",
       "      <td>0.000000</td>\n",
       "      <td>39.635000</td>\n",
       "      <td>361.280000</td>\n",
       "      <td>1110.130000</td>\n",
       "      <td>3998.619500</td>\n",
       "      <td>8977.290000</td>\n",
       "    </tr>\n",
       "    <tr>\n",
       "      <th>3</th>\n",
       "      <td>oneoff_purchases</td>\n",
       "      <td>0.0</td>\n",
       "      <td>40761.25000</td>\n",
       "      <td>40761.25000</td>\n",
       "      <td>592.437371</td>\n",
       "      <td>38.000000</td>\n",
       "      <td>1659.795184</td>\n",
       "      <td>10.045083</td>\n",
       "      <td>164.187572</td>\n",
       "      <td>0.000000</td>\n",
       "      <td>0.000000</td>\n",
       "      <td>38.000000</td>\n",
       "      <td>577.405000</td>\n",
       "      <td>2671.094000</td>\n",
       "      <td>6689.898200</td>\n",
       "    </tr>\n",
       "    <tr>\n",
       "      <th>4</th>\n",
       "      <td>installments_purchases</td>\n",
       "      <td>0.0</td>\n",
       "      <td>22500.00000</td>\n",
       "      <td>22500.00000</td>\n",
       "      <td>411.067645</td>\n",
       "      <td>89.000000</td>\n",
       "      <td>904.287592</td>\n",
       "      <td>7.299120</td>\n",
       "      <td>96.575178</td>\n",
       "      <td>0.000000</td>\n",
       "      <td>0.000000</td>\n",
       "      <td>89.000000</td>\n",
       "      <td>468.637500</td>\n",
       "      <td>1750.087500</td>\n",
       "      <td>3886.240500</td>\n",
       "    </tr>\n",
       "    <tr>\n",
       "      <th>5</th>\n",
       "      <td>cash_advance</td>\n",
       "      <td>0.0</td>\n",
       "      <td>47137.21176</td>\n",
       "      <td>47137.21176</td>\n",
       "      <td>978.871112</td>\n",
       "      <td>0.000000</td>\n",
       "      <td>2097.046713</td>\n",
       "      <td>5.166609</td>\n",
       "      <td>52.899434</td>\n",
       "      <td>0.000000</td>\n",
       "      <td>0.000000</td>\n",
       "      <td>0.000000</td>\n",
       "      <td>1113.821139</td>\n",
       "      <td>4647.169122</td>\n",
       "      <td>9588.163357</td>\n",
       "    </tr>\n",
       "    <tr>\n",
       "      <th>6</th>\n",
       "      <td>purchases_frequency</td>\n",
       "      <td>0.0</td>\n",
       "      <td>1.00000</td>\n",
       "      <td>1.00000</td>\n",
       "      <td>0.490351</td>\n",
       "      <td>0.500000</td>\n",
       "      <td>0.401348</td>\n",
       "      <td>0.060164</td>\n",
       "      <td>-1.638631</td>\n",
       "      <td>0.000000</td>\n",
       "      <td>0.083333</td>\n",
       "      <td>0.500000</td>\n",
       "      <td>0.916667</td>\n",
       "      <td>1.000000</td>\n",
       "      <td>1.000000</td>\n",
       "    </tr>\n",
       "    <tr>\n",
       "      <th>7</th>\n",
       "      <td>oneoff_purchases_frequency</td>\n",
       "      <td>0.0</td>\n",
       "      <td>1.00000</td>\n",
       "      <td>1.00000</td>\n",
       "      <td>0.202458</td>\n",
       "      <td>0.083333</td>\n",
       "      <td>0.298319</td>\n",
       "      <td>1.535613</td>\n",
       "      <td>1.161846</td>\n",
       "      <td>0.000000</td>\n",
       "      <td>0.000000</td>\n",
       "      <td>0.083333</td>\n",
       "      <td>0.300000</td>\n",
       "      <td>1.000000</td>\n",
       "      <td>1.000000</td>\n",
       "    </tr>\n",
       "    <tr>\n",
       "      <th>8</th>\n",
       "      <td>purchases_installments_frequency</td>\n",
       "      <td>0.0</td>\n",
       "      <td>1.00000</td>\n",
       "      <td>1.00000</td>\n",
       "      <td>0.364437</td>\n",
       "      <td>0.166667</td>\n",
       "      <td>0.397426</td>\n",
       "      <td>0.509201</td>\n",
       "      <td>-1.398632</td>\n",
       "      <td>0.000000</td>\n",
       "      <td>0.000000</td>\n",
       "      <td>0.166667</td>\n",
       "      <td>0.750000</td>\n",
       "      <td>1.000000</td>\n",
       "      <td>1.000000</td>\n",
       "    </tr>\n",
       "    <tr>\n",
       "      <th>9</th>\n",
       "      <td>cash_advance_frequency</td>\n",
       "      <td>0.0</td>\n",
       "      <td>1.50000</td>\n",
       "      <td>1.50000</td>\n",
       "      <td>0.135144</td>\n",
       "      <td>0.000000</td>\n",
       "      <td>0.200110</td>\n",
       "      <td>1.828686</td>\n",
       "      <td>3.334734</td>\n",
       "      <td>0.000000</td>\n",
       "      <td>0.000000</td>\n",
       "      <td>0.000000</td>\n",
       "      <td>0.222222</td>\n",
       "      <td>0.583333</td>\n",
       "      <td>0.833333</td>\n",
       "    </tr>\n",
       "    <tr>\n",
       "      <th>10</th>\n",
       "      <td>cash_advance_trx</td>\n",
       "      <td>0.0</td>\n",
       "      <td>123.00000</td>\n",
       "      <td>123.00000</td>\n",
       "      <td>3.248827</td>\n",
       "      <td>0.000000</td>\n",
       "      <td>6.824265</td>\n",
       "      <td>5.721298</td>\n",
       "      <td>61.646862</td>\n",
       "      <td>0.000000</td>\n",
       "      <td>0.000000</td>\n",
       "      <td>0.000000</td>\n",
       "      <td>4.000000</td>\n",
       "      <td>15.000000</td>\n",
       "      <td>29.000000</td>\n",
       "    </tr>\n",
       "    <tr>\n",
       "      <th>11</th>\n",
       "      <td>purchases_trx</td>\n",
       "      <td>0.0</td>\n",
       "      <td>358.00000</td>\n",
       "      <td>358.00000</td>\n",
       "      <td>14.709832</td>\n",
       "      <td>7.000000</td>\n",
       "      <td>24.856260</td>\n",
       "      <td>4.630655</td>\n",
       "      <td>34.793100</td>\n",
       "      <td>0.000000</td>\n",
       "      <td>1.000000</td>\n",
       "      <td>7.000000</td>\n",
       "      <td>17.000000</td>\n",
       "      <td>57.000000</td>\n",
       "      <td>116.510000</td>\n",
       "    </tr>\n",
       "    <tr>\n",
       "      <th>12</th>\n",
       "      <td>payments</td>\n",
       "      <td>0.0</td>\n",
       "      <td>50721.48336</td>\n",
       "      <td>50721.48336</td>\n",
       "      <td>1733.143852</td>\n",
       "      <td>856.901546</td>\n",
       "      <td>2894.902017</td>\n",
       "      <td>5.907620</td>\n",
       "      <td>54.770736</td>\n",
       "      <td>179.617069</td>\n",
       "      <td>383.276166</td>\n",
       "      <td>856.901546</td>\n",
       "      <td>1901.134317</td>\n",
       "      <td>6082.090595</td>\n",
       "      <td>13608.715541</td>\n",
       "    </tr>\n",
       "    <tr>\n",
       "      <th>13</th>\n",
       "      <td>minimum_payments</td>\n",
       "      <td>0.0</td>\n",
       "      <td>76406.20752</td>\n",
       "      <td>76406.20752</td>\n",
       "      <td>833.983453</td>\n",
       "      <td>289.628402</td>\n",
       "      <td>2335.859412</td>\n",
       "      <td>13.808430</td>\n",
       "      <td>292.357730</td>\n",
       "      <td>85.405531</td>\n",
       "      <td>163.028164</td>\n",
       "      <td>289.628402</td>\n",
       "      <td>788.713501</td>\n",
       "      <td>2719.566935</td>\n",
       "      <td>8626.691541</td>\n",
       "    </tr>\n",
       "    <tr>\n",
       "      <th>14</th>\n",
       "      <td>prc_full_payment</td>\n",
       "      <td>0.0</td>\n",
       "      <td>1.00000</td>\n",
       "      <td>1.00000</td>\n",
       "      <td>0.153715</td>\n",
       "      <td>0.000000</td>\n",
       "      <td>0.292483</td>\n",
       "      <td>1.942820</td>\n",
       "      <td>2.432395</td>\n",
       "      <td>0.000000</td>\n",
       "      <td>0.000000</td>\n",
       "      <td>0.000000</td>\n",
       "      <td>0.142857</td>\n",
       "      <td>1.000000</td>\n",
       "      <td>1.000000</td>\n",
       "    </tr>\n",
       "    <tr>\n",
       "      <th>15</th>\n",
       "      <td>tenure</td>\n",
       "      <td>6.0</td>\n",
       "      <td>12.00000</td>\n",
       "      <td>6.00000</td>\n",
       "      <td>11.517318</td>\n",
       "      <td>12.000000</td>\n",
       "      <td>1.338256</td>\n",
       "      <td>-2.943017</td>\n",
       "      <td>7.694823</td>\n",
       "      <td>10.000000</td>\n",
       "      <td>12.000000</td>\n",
       "      <td>12.000000</td>\n",
       "      <td>12.000000</td>\n",
       "      <td>12.000000</td>\n",
       "      <td>12.000000</td>\n",
       "    </tr>\n",
       "  </tbody>\n",
       "</table>\n",
       "</div>"
      ],
      "text/plain": [
       "                          attributes  min          max        range         mean      median  std deviation   skewness    kurtosis         P10         P25         P50          P75          P95           P99\n",
       "0                            balance  0.0  19043.13856  19043.13856  1564.474828  873.385231    2081.415590   2.393386    7.674751   23.575529  128.281915  873.385231  2054.140036  5909.111808   9338.804814\n",
       "1                  balance_frequency  0.0      1.00000      1.00000     0.877271    1.000000       0.236891  -2.023266    3.092370    0.454545    0.888889    1.000000     1.000000     1.000000      1.000000\n",
       "2                          purchases  0.0  49039.57000  49039.57000  1003.204834  361.280000    2136.515413   8.144269  111.388771    0.000000   39.635000  361.280000  1110.130000  3998.619500   8977.290000\n",
       "3                   oneoff_purchases  0.0  40761.25000  40761.25000   592.437371   38.000000    1659.795184  10.045083  164.187572    0.000000    0.000000   38.000000   577.405000  2671.094000   6689.898200\n",
       "4             installments_purchases  0.0  22500.00000  22500.00000   411.067645   89.000000     904.287592   7.299120   96.575178    0.000000    0.000000   89.000000   468.637500  1750.087500   3886.240500\n",
       "5                       cash_advance  0.0  47137.21176  47137.21176   978.871112    0.000000    2097.046713   5.166609   52.899434    0.000000    0.000000    0.000000  1113.821139  4647.169122   9588.163357\n",
       "6                purchases_frequency  0.0      1.00000      1.00000     0.490351    0.500000       0.401348   0.060164   -1.638631    0.000000    0.083333    0.500000     0.916667     1.000000      1.000000\n",
       "7         oneoff_purchases_frequency  0.0      1.00000      1.00000     0.202458    0.083333       0.298319   1.535613    1.161846    0.000000    0.000000    0.083333     0.300000     1.000000      1.000000\n",
       "8   purchases_installments_frequency  0.0      1.00000      1.00000     0.364437    0.166667       0.397426   0.509201   -1.398632    0.000000    0.000000    0.166667     0.750000     1.000000      1.000000\n",
       "9             cash_advance_frequency  0.0      1.50000      1.50000     0.135144    0.000000       0.200110   1.828686    3.334734    0.000000    0.000000    0.000000     0.222222     0.583333      0.833333\n",
       "10                  cash_advance_trx  0.0    123.00000    123.00000     3.248827    0.000000       6.824265   5.721298   61.646862    0.000000    0.000000    0.000000     4.000000    15.000000     29.000000\n",
       "11                     purchases_trx  0.0    358.00000    358.00000    14.709832    7.000000      24.856260   4.630655   34.793100    0.000000    1.000000    7.000000    17.000000    57.000000    116.510000\n",
       "12                          payments  0.0  50721.48336  50721.48336  1733.143852  856.901546    2894.902017   5.907620   54.770736  179.617069  383.276166  856.901546  1901.134317  6082.090595  13608.715541\n",
       "13                  minimum_payments  0.0  76406.20752  76406.20752   833.983453  289.628402    2335.859412  13.808430  292.357730   85.405531  163.028164  289.628402   788.713501  2719.566935   8626.691541\n",
       "14                  prc_full_payment  0.0      1.00000      1.00000     0.153715    0.000000       0.292483   1.942820    2.432395    0.000000    0.000000    0.000000     0.142857     1.000000      1.000000\n",
       "15                            tenure  6.0     12.00000      6.00000    11.517318   12.000000       1.338256  -2.943017    7.694823   10.000000   12.000000   12.000000    12.000000    12.000000     12.000000"
      ]
     },
     "execution_count": 12,
     "metadata": {},
     "output_type": "execute_result"
    }
   ],
   "source": [
    "# estimadores de localicação\n",
    "est1 = pd.DataFrame(num_attributes.apply(np.mean)).T\n",
    "est2 = pd.DataFrame(num_attributes.apply(np.median)).T\n",
    "est3 = pd.DataFrame(num_attributes.apply(np.min)).T\n",
    "est4 = pd.DataFrame(num_attributes.apply(np.max)).T\n",
    "\n",
    "# estimadores de variabilidade\n",
    "est5 = pd.DataFrame(num_attributes.apply(np.std)).T\n",
    "est6 = pd.DataFrame(num_attributes.apply( lambda x: x.max() - x.min())).T\n",
    "\n",
    "# skewness and kurtosis\n",
    "est7 = pd.DataFrame(num_attributes.apply( lambda x: x.skew() )).T\n",
    "est8 = pd.DataFrame(num_attributes.apply( lambda x: x.kurtosis())).T\n",
    "\n",
    "# conatenate\n",
    "m1 = pd.concat([est3, est4, est6, est1, est2, est5, est7, est8]).T.reset_index()\n",
    "m1.columns = ['attributes', 'min', 'max', 'range', 'mean', 'median', 'std deviation', 'skewness', 'kurtosis']\n",
    "m1\n",
    "\n",
    "# percentis\n",
    "quartis = num_attributes.apply( lambda x: np.quantile( x, q=[0.10, 0.25, 0.50, 0.75, 0.95, 0.99])).T.reset_index()\n",
    "quartis.columns = ['attributes', 'P10', 'P25', 'P50', 'P75', 'P95', 'P99']\n",
    "\n",
    "#\n",
    "m2 = pd.merge(m1, quartis, how='inner', on='attributes')\n",
    "m2"
   ]
  },
  {
   "cell_type": "markdown",
   "metadata": {},
   "source": [
    "# Data Filtering"
   ]
  },
  {
   "cell_type": "code",
   "execution_count": 13,
   "metadata": {
    "ExecuteTime": {
     "end_time": "2022-05-17T12:02:05.299962Z",
     "start_time": "2022-05-17T12:02:05.287115Z"
    }
   },
   "outputs": [],
   "source": [
    "df02 = df01.copy()"
   ]
  },
  {
   "cell_type": "code",
   "execution_count": 14,
   "metadata": {
    "ExecuteTime": {
     "end_time": "2022-05-17T12:02:05.330200Z",
     "start_time": "2022-05-17T12:02:05.302952Z"
    }
   },
   "outputs": [],
   "source": [
    "df02.drop('credit_limit', axis=1, inplace=True)\n",
    "df02.drop('tenure', axis=1, inplace=True)"
   ]
  },
  {
   "cell_type": "markdown",
   "metadata": {},
   "source": [
    "# Feature Engineering"
   ]
  },
  {
   "cell_type": "code",
   "execution_count": 15,
   "metadata": {
    "ExecuteTime": {
     "end_time": "2022-05-17T12:02:05.345961Z",
     "start_time": "2022-05-17T12:02:05.333992Z"
    }
   },
   "outputs": [],
   "source": [
    "df03 = df02.copy()"
   ]
  },
  {
   "cell_type": "markdown",
   "metadata": {},
   "source": [
    "# Exploratory Data Analysis"
   ]
  },
  {
   "cell_type": "markdown",
   "metadata": {},
   "source": [
    "## Univariate Analysis"
   ]
  },
  {
   "cell_type": "code",
   "execution_count": 16,
   "metadata": {
    "ExecuteTime": {
     "end_time": "2022-05-17T12:02:05.361917Z",
     "start_time": "2022-05-17T12:02:05.349949Z"
    }
   },
   "outputs": [],
   "source": [
    "df04 = df03.copy()"
   ]
  },
  {
   "cell_type": "markdown",
   "metadata": {},
   "source": [
    "### Pandas Profiling"
   ]
  },
  {
   "cell_type": "code",
   "execution_count": 17,
   "metadata": {
    "ExecuteTime": {
     "end_time": "2022-05-17T12:02:05.376877Z",
     "start_time": "2022-05-17T12:02:05.364909Z"
    }
   },
   "outputs": [],
   "source": [
    "#profile = ProfileReport(df01, title = 'Credit Card Dataset for Clustering')\n",
    "#profile.to_file(\"C:/Users/dml1wfe/repos/projects/pa006_bank_marketing_strategy/bank_marketing_stretegy/reports/profiling_report.html\")"
   ]
  },
  {
   "cell_type": "markdown",
   "metadata": {
    "ExecuteTime": {
     "end_time": "2022-02-22T17:16:25.641050Z",
     "start_time": "2022-02-22T17:16:25.629070Z"
    }
   },
   "source": [
    "### SweetViz"
   ]
  },
  {
   "cell_type": "code",
   "execution_count": 18,
   "metadata": {
    "ExecuteTime": {
     "end_time": "2022-05-17T12:02:05.392939Z",
     "start_time": "2022-05-17T12:02:05.379870Z"
    }
   },
   "outputs": [],
   "source": [
    "#analysis = sv.analyze(df04)\n",
    "#analysis.show_html(\"C:/Users/dml1wfe/repos/projects/pa006_bank_marketing_strategy/bank_marketing_stretegy/reports/sweetviz_report.html\")"
   ]
  },
  {
   "cell_type": "markdown",
   "metadata": {
    "ExecuteTime": {
     "end_time": "2022-02-22T17:44:34.958551Z",
     "start_time": "2022-02-22T17:44:34.948503Z"
    }
   },
   "source": [
    "### Notes"
   ]
  },
  {
   "cell_type": "markdown",
   "metadata": {
    "cell_style": "split"
   },
   "source": [
    "* balance\n",
    "    * 75% das clientes possuem saldo disponivel para compras até $ 2.500\n",
    "    \n",
    "    \n",
    "* balance_frequency\n",
    "    * a frequencia de atualização do saldo disponivel para compas é alto\n",
    "    \n",
    "    \n",
    "* purchases\n",
    "    * 22% dos clientes nao fizeram compras nos ultimos 6 meses\n",
    "    \n",
    "    \n",
    "* oneoff_purchases\n",
    "    * 48% dos clientes os ultimos 6 meses nao fizeram um one off purchases\n",
    "    \n",
    "    \n",
    "* installments_purchases\n",
    "    * 75% dos usam essa modalidade para compras ate $ 500, no entanto 43% nao realizaram compras nessa modalidade\n",
    "    \n",
    "\n",
    "* cash_advance\n",
    "    * 51% dos clientes nao utilizaram essa modalidade\n",
    "    * exite um cliente que utilizou 47 mil desta modalidade (123 trx)\n",
    "\n",
    "\n",
    "* purchases_frequency\n",
    "    * 22% dos clientes nao fizeram compras nos ultimos 6 meses\n",
    "\n",
    "\n",
    "* oneoff_purchases_frequency\n",
    "    * 48% dos clientes os ultimos 6 meses nao fizeram um one off purchases\n",
    "    * alta correlação com oneoff_purchases\n"
   ]
  },
  {
   "cell_type": "markdown",
   "metadata": {
    "cell_style": "split"
   },
   "source": [
    "* purchases_installments_frequency\n",
    "    * 43% nao realizaram compras nessa modalidade\n",
    "    * alta correlação com installments_purchases\n",
    "\n",
    "\n",
    "* cash_advance_frequency\n",
    " * 51% dos clientes nao utilizaram essa modalidade\n",
    " * alta correlação com cash_advance\n",
    "\n",
    "\n",
    "* cash_advance_trx ->\n",
    "\n",
    "\n",
    "* purchases_trx ->\n",
    "\n",
    "\n",
    "* credit_limit ->\n",
    "\n",
    "\n",
    "* payments ->\n",
    "\n",
    "\n",
    "* minimum_payments ->\n",
    "\n",
    "\n",
    "* prc_full_payment ->\n",
    "\n",
    "\n",
    "* tenure ->"
   ]
  },
  {
   "cell_type": "markdown",
   "metadata": {},
   "source": [
    "## Bivariate Analysis"
   ]
  },
  {
   "cell_type": "code",
   "execution_count": 19,
   "metadata": {
    "ExecuteTime": {
     "end_time": "2022-05-17T12:02:05.408860Z",
     "start_time": "2022-05-17T12:02:05.395893Z"
    }
   },
   "outputs": [],
   "source": [
    "#sns.pairplot(df04.drop(columns = 'cust_id'))"
   ]
  },
  {
   "cell_type": "markdown",
   "metadata": {},
   "source": [
    "# Data Preparation"
   ]
  },
  {
   "cell_type": "code",
   "execution_count": 172,
   "metadata": {
    "ExecuteTime": {
     "end_time": "2022-05-17T18:17:44.085455Z",
     "start_time": "2022-05-17T18:17:44.061223Z"
    }
   },
   "outputs": [],
   "source": [
    "df05 = df04.drop('cust_id', axis = 1).copy()"
   ]
  },
  {
   "cell_type": "code",
   "execution_count": 154,
   "metadata": {
    "ExecuteTime": {
     "end_time": "2022-05-17T18:00:20.974811Z",
     "start_time": "2022-05-17T18:00:20.948627Z"
    }
   },
   "outputs": [],
   "source": [
    "#model = en.IsolationForest(random_state=42)\n",
    "#\n",
    "#param_grid = {'n_estimators': [1000, 1500], \n",
    "#              'max_samples': [10], \n",
    "#              'contamination': ['auto', 0.02, 0.03], \n",
    "#              'max_features': [10, 15], \n",
    "#              'bootstrap': [True], \n",
    "#              'n_jobs': [-1]}\n",
    "#\n",
    "#grid_search = model_selection.GridSearchCV(model, \n",
    "#                                           param_grid,\n",
    "#                                           scoring=\"neg_mean_squared_error\", \n",
    "#                                           refit=True,\n",
    "#                                           cv=10, \n",
    "#                                           return_train_score=True)\n",
    "#grid_search.fit(df08)\n",
    "#\n",
    "#best_model = grid_search.fit(df08)\n",
    "#print('Optimum parameters', best_model.best_params_)"
   ]
  },
  {
   "cell_type": "code",
   "execution_count": 155,
   "metadata": {
    "ExecuteTime": {
     "end_time": "2022-05-17T18:00:51.158066Z",
     "start_time": "2022-05-17T18:00:21.200933Z"
    }
   },
   "outputs": [],
   "source": [
    "# model definition\n",
    "iso_model = en.IsolationForest(n_jobs = -1, n_estimators=2500, contamination=0.3)\n",
    "\n",
    "#model fit\n",
    "iso_model.fit (df05.values)\n",
    "\n",
    "# predict\n",
    "pred = iso_model.predict(df05.values)\n",
    "pred_scores = -1 * iso_model.score_samples(df05.values)\n",
    "\n",
    "# outlier detector\n",
    "df05['outlier'] = pred_scores"
   ]
  },
  {
   "cell_type": "code",
   "execution_count": 156,
   "metadata": {
    "ExecuteTime": {
     "end_time": "2022-05-17T18:00:51.219920Z",
     "start_time": "2022-05-17T18:00:51.161059Z"
    }
   },
   "outputs": [
    {
     "name": "stdout",
     "output_type": "stream",
     "text": [
      " Removidos 0 outliers, representando 0.0% do dos dados.\n"
     ]
    }
   ],
   "source": [
    "df51 = df05.copy()\n",
    "threshold = 1\n",
    "df51['outlier_flag'] = df51['outlier'].apply(lambda x: 1 if x > threshold else 0 )\n",
    "df51 = df51.loc[df51['outlier_flag'] == 0, :]\n",
    "print(f\" Removidos {df05.shape[0] - df51.shape[0]} outliers, representando {round(((df05.shape[0] - df51.shape[0]) / df05.shape[0])*100,2)}% do dos dados.\")"
   ]
  },
  {
   "cell_type": "code",
   "execution_count": 157,
   "metadata": {
    "ExecuteTime": {
     "end_time": "2022-05-17T18:00:51.281482Z",
     "start_time": "2022-05-17T18:00:51.220918Z"
    }
   },
   "outputs": [],
   "source": [
    "df051 = normalize(df51)\n",
    "df51 = pd.DataFrame(df051, columns=df51.columns)\n",
    "\n",
    "df51.drop(['outlier_flag','outlier'], axis=1, inplace=True)\n",
    "cols = df51.columns\n",
    "\n",
    "for col in cols:\n",
    "    df51[col] = np.log(1 + df51[col])"
   ]
  },
  {
   "cell_type": "code",
   "execution_count": 158,
   "metadata": {
    "ExecuteTime": {
     "end_time": "2022-05-17T18:00:51.297540Z",
     "start_time": "2022-05-17T18:00:51.284475Z"
    }
   },
   "outputs": [],
   "source": [
    "from sklearn.preprocessing import MinMaxScaler"
   ]
  },
  {
   "cell_type": "code",
   "execution_count": 173,
   "metadata": {
    "ExecuteTime": {
     "end_time": "2022-05-17T18:17:47.911869Z",
     "start_time": "2022-05-17T18:17:47.889813Z"
    }
   },
   "outputs": [
    {
     "data": {
      "text/plain": [
       "Index(['balance', 'balance_frequency', 'purchases', 'oneoff_purchases',\n",
       "       'installments_purchases', 'cash_advance', 'purchases_frequency',\n",
       "       'oneoff_purchases_frequency', 'purchases_installments_frequency',\n",
       "       'cash_advance_frequency', 'cash_advance_trx', 'purchases_trx',\n",
       "       'payments', 'minimum_payments', 'prc_full_payment'],\n",
       "      dtype='object')"
      ]
     },
     "execution_count": 173,
     "metadata": {},
     "output_type": "execute_result"
    }
   ],
   "source": [
    "df05.columns"
   ]
  },
  {
   "cell_type": "code",
   "execution_count": 174,
   "metadata": {
    "ExecuteTime": {
     "end_time": "2022-05-17T18:17:50.115450Z",
     "start_time": "2022-05-17T18:17:50.051888Z"
    }
   },
   "outputs": [],
   "source": [
    "mm = MinMaxScaler()\n",
    "\n",
    "df05['balance']          = mm.fit_transform(df05[['balance']])\n",
    "df05['purchases']        = mm.fit_transform(df05[['purchases']])\n",
    "df05['oneoff_purchases'] = mm.fit_transform(df05[['oneoff_purchases']])\n",
    "df05['installments_purchases'] = mm.fit_transform(df05[['installments_purchases']])\n",
    "df05['cash_advance'] = mm.fit_transform(df05[['cash_advance']])\n",
    "df05['installments_purchases'] = mm.fit_transform(df05[['installments_purchases']])\n",
    "df05['payments'] = mm.fit_transform(df05[['payments']])\n",
    "df05['minimum_payments'] = mm.fit_transform(df05[['minimum_payments']])\n",
    "df05['prc_full_payment'] = mm.fit_transform(df05[['prc_full_payment']])\n",
    "\n"
   ]
  },
  {
   "cell_type": "code",
   "execution_count": 175,
   "metadata": {
    "ExecuteTime": {
     "end_time": "2022-05-17T18:17:50.844509Z",
     "start_time": "2022-05-17T18:17:50.809730Z"
    }
   },
   "outputs": [
    {
     "data": {
      "text/html": [
       "<div>\n",
       "<style scoped>\n",
       "    .dataframe tbody tr th:only-of-type {\n",
       "        vertical-align: middle;\n",
       "    }\n",
       "\n",
       "    .dataframe tbody tr th {\n",
       "        vertical-align: top;\n",
       "    }\n",
       "\n",
       "    .dataframe thead th {\n",
       "        text-align: right;\n",
       "    }\n",
       "</style>\n",
       "<table border=\"1\" class=\"dataframe\">\n",
       "  <thead>\n",
       "    <tr style=\"text-align: right;\">\n",
       "      <th></th>\n",
       "      <th>balance</th>\n",
       "      <th>balance_frequency</th>\n",
       "      <th>purchases</th>\n",
       "      <th>oneoff_purchases</th>\n",
       "      <th>installments_purchases</th>\n",
       "      <th>cash_advance</th>\n",
       "      <th>purchases_frequency</th>\n",
       "      <th>oneoff_purchases_frequency</th>\n",
       "      <th>purchases_installments_frequency</th>\n",
       "      <th>cash_advance_frequency</th>\n",
       "      <th>cash_advance_trx</th>\n",
       "      <th>purchases_trx</th>\n",
       "      <th>payments</th>\n",
       "      <th>minimum_payments</th>\n",
       "      <th>prc_full_payment</th>\n",
       "    </tr>\n",
       "  </thead>\n",
       "  <tbody>\n",
       "    <tr>\n",
       "      <th>0</th>\n",
       "      <td>0.002148</td>\n",
       "      <td>0.818182</td>\n",
       "      <td>0.001945</td>\n",
       "      <td>0.000000</td>\n",
       "      <td>0.00424</td>\n",
       "      <td>0.000000</td>\n",
       "      <td>0.166667</td>\n",
       "      <td>0.000000</td>\n",
       "      <td>0.083333</td>\n",
       "      <td>0.000000</td>\n",
       "      <td>0</td>\n",
       "      <td>2</td>\n",
       "      <td>0.003979</td>\n",
       "      <td>0.001826</td>\n",
       "      <td>0.000000</td>\n",
       "    </tr>\n",
       "    <tr>\n",
       "      <th>1</th>\n",
       "      <td>0.168169</td>\n",
       "      <td>0.909091</td>\n",
       "      <td>0.000000</td>\n",
       "      <td>0.000000</td>\n",
       "      <td>0.00000</td>\n",
       "      <td>0.136685</td>\n",
       "      <td>0.000000</td>\n",
       "      <td>0.000000</td>\n",
       "      <td>0.000000</td>\n",
       "      <td>0.250000</td>\n",
       "      <td>4</td>\n",
       "      <td>0</td>\n",
       "      <td>0.080893</td>\n",
       "      <td>0.014035</td>\n",
       "      <td>0.222222</td>\n",
       "    </tr>\n",
       "    <tr>\n",
       "      <th>2</th>\n",
       "      <td>0.131026</td>\n",
       "      <td>1.000000</td>\n",
       "      <td>0.015766</td>\n",
       "      <td>0.018968</td>\n",
       "      <td>0.00000</td>\n",
       "      <td>0.000000</td>\n",
       "      <td>1.000000</td>\n",
       "      <td>1.000000</td>\n",
       "      <td>0.000000</td>\n",
       "      <td>0.000000</td>\n",
       "      <td>0</td>\n",
       "      <td>12</td>\n",
       "      <td>0.012264</td>\n",
       "      <td>0.008210</td>\n",
       "      <td>0.000000</td>\n",
       "    </tr>\n",
       "    <tr>\n",
       "      <th>3</th>\n",
       "      <td>0.087521</td>\n",
       "      <td>0.636364</td>\n",
       "      <td>0.030567</td>\n",
       "      <td>0.036775</td>\n",
       "      <td>0.00000</td>\n",
       "      <td>0.004366</td>\n",
       "      <td>0.083333</td>\n",
       "      <td>0.083333</td>\n",
       "      <td>0.000000</td>\n",
       "      <td>0.083333</td>\n",
       "      <td>1</td>\n",
       "      <td>1</td>\n",
       "      <td>0.000000</td>\n",
       "      <td>0.000000</td>\n",
       "      <td>0.000000</td>\n",
       "    </tr>\n",
       "    <tr>\n",
       "      <th>4</th>\n",
       "      <td>0.042940</td>\n",
       "      <td>1.000000</td>\n",
       "      <td>0.000326</td>\n",
       "      <td>0.000393</td>\n",
       "      <td>0.00000</td>\n",
       "      <td>0.000000</td>\n",
       "      <td>0.083333</td>\n",
       "      <td>0.083333</td>\n",
       "      <td>0.000000</td>\n",
       "      <td>0.000000</td>\n",
       "      <td>0</td>\n",
       "      <td>1</td>\n",
       "      <td>0.013374</td>\n",
       "      <td>0.003204</td>\n",
       "      <td>0.000000</td>\n",
       "    </tr>\n",
       "  </tbody>\n",
       "</table>\n",
       "</div>"
      ],
      "text/plain": [
       "    balance  balance_frequency  purchases  oneoff_purchases  installments_purchases  cash_advance  purchases_frequency  oneoff_purchases_frequency  purchases_installments_frequency  cash_advance_frequency  cash_advance_trx  purchases_trx  payments  minimum_payments  prc_full_payment\n",
       "0  0.002148           0.818182   0.001945          0.000000                 0.00424      0.000000             0.166667                    0.000000                          0.083333                0.000000                 0              2  0.003979          0.001826          0.000000\n",
       "1  0.168169           0.909091   0.000000          0.000000                 0.00000      0.136685             0.000000                    0.000000                          0.000000                0.250000                 4              0  0.080893          0.014035          0.222222\n",
       "2  0.131026           1.000000   0.015766          0.018968                 0.00000      0.000000             1.000000                    1.000000                          0.000000                0.000000                 0             12  0.012264          0.008210          0.000000\n",
       "3  0.087521           0.636364   0.030567          0.036775                 0.00000      0.004366             0.083333                    0.083333                          0.000000                0.083333                 1              1  0.000000          0.000000          0.000000\n",
       "4  0.042940           1.000000   0.000326          0.000393                 0.00000      0.000000             0.083333                    0.083333                          0.000000                0.000000                 0              1  0.013374          0.003204          0.000000"
      ]
     },
     "execution_count": 175,
     "metadata": {},
     "output_type": "execute_result"
    }
   ],
   "source": [
    "df05.head()"
   ]
  },
  {
   "cell_type": "markdown",
   "metadata": {},
   "source": [
    "# Data Space Study"
   ]
  },
  {
   "cell_type": "code",
   "execution_count": 176,
   "metadata": {
    "ExecuteTime": {
     "end_time": "2022-05-17T18:17:59.874473Z",
     "start_time": "2022-05-17T18:17:59.864747Z"
    }
   },
   "outputs": [],
   "source": [
    "df06 = df05.copy()"
   ]
  },
  {
   "cell_type": "markdown",
   "metadata": {
    "heading_collapsed": true
   },
   "source": [
    "## Principal Component Analysis (PCA)"
   ]
  },
  {
   "cell_type": "code",
   "execution_count": 322,
   "metadata": {
    "ExecuteTime": {
     "end_time": "2022-05-16T19:41:05.543030Z",
     "start_time": "2022-05-16T19:41:05.518556Z"
    },
    "hidden": true
   },
   "outputs": [],
   "source": [
    "pca = PCA(n_components = df06.shape[1])\n",
    "pca_space = pca.fit_transform(df06)"
   ]
  },
  {
   "cell_type": "code",
   "execution_count": 323,
   "metadata": {
    "ExecuteTime": {
     "end_time": "2022-05-16T19:41:06.197664Z",
     "start_time": "2022-05-16T19:41:05.914843Z"
    },
    "cell_style": "center",
    "hidden": true
   },
   "outputs": [
    {
     "data": {
      "image/png": "[encoded data removed]",
      "text/plain": [
       "<Figure size 1440x720 with 1 Axes>"
      ]
     },
     "metadata": {},
     "output_type": "display_data"
    }
   ],
   "source": [
    "features = range(pca.n_components)\n",
    "plt.figure(figsize=(20,10))\n",
    "plt.bar(features, pca.explained_variance_ratio_, color='black')\n",
    "plt.plot (features, pca.explained_variance_ratio_.cumsum(), color='red', linestyle='--', marker='o');"
   ]
  },
  {
   "cell_type": "code",
   "execution_count": 297,
   "metadata": {
    "ExecuteTime": {
     "end_time": "2022-05-16T19:06:31.264271Z",
     "start_time": "2022-05-16T19:06:31.218480Z"
    },
    "hidden": true
   },
   "outputs": [],
   "source": [
    "pca = PCA(n_components=5)\n",
    "principalComponents = pca.fit_transform(df06)\n",
    "\n",
    "#sns.scatterplot( x= principalComponents[ :, 0], y = principalComponents[ :, 1]);\n",
    "#Isso se deve à natureza linear do PCA"
   ]
  },
  {
   "cell_type": "markdown",
   "metadata": {
    "heading_collapsed": true
   },
   "source": [
    "## Uniform Manifold Approximation and Projection (UMAP)"
   ]
  },
  {
   "cell_type": "code",
   "execution_count": 298,
   "metadata": {
    "ExecuteTime": {
     "end_time": "2022-05-16T19:10:16.115162Z",
     "start_time": "2022-05-16T19:08:06.558441Z"
    },
    "cell_style": "center",
    "hidden": true
   },
   "outputs": [],
   "source": [
    "reducer = umap.UMAP(n_components = 5, n_neighbors = 1000 , min_dist=0.0, random_state=42)\n",
    "embedding_umap = reducer.fit_transform(df06)\n",
    "\n",
    "# plot UMAP\n",
    "#sns.scatterplot( x= embedding_umap[ :, 0], y = embedding_umap[ :, 1]);"
   ]
  },
  {
   "cell_type": "markdown",
   "metadata": {
    "heading_collapsed": true
   },
   "source": [
    "# Feature Selection"
   ]
  },
  {
   "cell_type": "code",
   "execution_count": 238,
   "metadata": {
    "ExecuteTime": {
     "end_time": "2022-05-16T18:40:28.729217Z",
     "start_time": "2022-05-16T18:40:28.716615Z"
    },
    "hidden": true
   },
   "outputs": [],
   "source": [
    "#df07 = df_leafs.copy()"
   ]
  },
  {
   "cell_type": "markdown",
   "metadata": {
    "heading_collapsed": true
   },
   "source": [
    "# Hyperparameter Fine-Tunning"
   ]
  },
  {
   "cell_type": "code",
   "execution_count": 252,
   "metadata": {
    "ExecuteTime": {
     "end_time": "2022-05-16T18:44:56.605108Z",
     "start_time": "2022-05-16T18:44:56.599062Z"
    },
    "hidden": true
   },
   "outputs": [],
   "source": [
    "df08 = pd.DataFrame(df06)"
   ]
  },
  {
   "cell_type": "markdown",
   "metadata": {},
   "source": [
    "# Model Training"
   ]
  },
  {
   "cell_type": "code",
   "execution_count": 177,
   "metadata": {
    "ExecuteTime": {
     "end_time": "2022-05-17T18:18:04.012431Z",
     "start_time": "2022-05-17T18:18:03.991196Z"
    }
   },
   "outputs": [],
   "source": [
    "df09 = pd.DataFrame(df05).copy()"
   ]
  },
  {
   "cell_type": "code",
   "execution_count": 178,
   "metadata": {
    "ExecuteTime": {
     "end_time": "2022-05-17T18:18:04.554454Z",
     "start_time": "2022-05-17T18:18:04.534510Z"
    }
   },
   "outputs": [],
   "source": [
    "clusters = list(range(2, 11))"
   ]
  },
  {
   "cell_type": "markdown",
   "metadata": {},
   "source": [
    "## K-Means clustering (K-Means)"
   ]
  },
  {
   "cell_type": "code",
   "execution_count": 179,
   "metadata": {
    "ExecuteTime": {
     "end_time": "2022-05-17T18:18:30.695954Z",
     "start_time": "2022-05-17T18:18:08.181174Z"
    },
    "cell_style": "center"
   },
   "outputs": [
    {
     "name": "stdout",
     "output_type": "stream",
     "text": [
      "For n_clusters = 2: \n",
      "SS Score = 0.7696995324941713, DB Score = 0.5592317998486096, CH Score = 10897.516676182942 \n",
      "----------------------------------------------------------------------------------------------------\n",
      "For n_clusters = 3: \n",
      "SS Score = 0.6472857362932928, DB Score = 0.6022177117042795, CH Score = 11718.70376080834 \n",
      "----------------------------------------------------------------------------------------------------\n",
      "For n_clusters = 4: \n",
      "SS Score = 0.5981860970685329, DB Score = 0.584329826137542, CH Score = 12824.906106547396 \n",
      "----------------------------------------------------------------------------------------------------\n",
      "For n_clusters = 5: \n",
      "SS Score = 0.4759833965715952, DB Score = 0.6563779732632109, CH Score = 12923.89546409073 \n",
      "----------------------------------------------------------------------------------------------------\n",
      "For n_clusters = 6: \n",
      "SS Score = 0.5092699696609427, DB Score = 0.6237831023486603, CH Score = 13416.769312030001 \n",
      "----------------------------------------------------------------------------------------------------\n",
      "For n_clusters = 7: \n",
      "SS Score = 0.4900363161206503, DB Score = 0.6237364571438802, CH Score = 14317.28937762596 \n",
      "----------------------------------------------------------------------------------------------------\n",
      "For n_clusters = 8: \n",
      "SS Score = 0.49002326477181113, DB Score = 0.6309098345403609, CH Score = 14600.192322090106 \n",
      "----------------------------------------------------------------------------------------------------\n",
      "For n_clusters = 9: \n",
      "SS Score = 0.4914836023967953, DB Score = 0.6108544502160564, CH Score = 15145.793278747622 \n",
      "----------------------------------------------------------------------------------------------------\n",
      "For n_clusters = 10: \n",
      "SS Score = 0.4970543927981032, DB Score = 0.6170172256870241, CH Score = 16193.337609110818 \n",
      "----------------------------------------------------------------------------------------------------\n"
     ]
    }
   ],
   "source": [
    "silhouette_list = []\n",
    "davies_list = []\n",
    "calinski_list = []\n",
    "\n",
    "for k in clusters:\n",
    "    # model definition\n",
    "    kmeans_model = cl.KMeans (n_clusters = k)\n",
    "\n",
    "    # model training\n",
    "    kmeans_model.fit(df09.values)\n",
    "\n",
    "    # model predict\n",
    "    labels_kmeans = kmeans_model.predict(df09.values)\n",
    "\n",
    "    # model performance\n",
    "    sil = mt.silhouette_score(df09, labels_kmeans)\n",
    "    dav = mt.davies_bouldin_score(df09, labels_kmeans)\n",
    "    cal = mt.calinski_harabasz_score(df09, labels_kmeans)\n",
    "    silhouette_list.append(sil)\n",
    "    davies_list.append(dav)\n",
    "    calinski_list.append (cal)\n",
    "    \n",
    "    # metrics\n",
    "    print (\"For n_clusters = {0}: \\nSS Score = {1}, DB Score = {2}, CH Score = {3} \".format(k, sil, dav, cal))\n",
    "    print(100 * \"-\")"
   ]
  },
  {
   "cell_type": "code",
   "execution_count": 192,
   "metadata": {
    "ExecuteTime": {
     "end_time": "2022-05-17T18:26:58.195903Z",
     "start_time": "2022-05-17T18:26:57.778564Z"
    },
    "cell_style": "split"
   },
   "outputs": [
    {
     "data": {
      "image/png": "[encoded data removed]",
      "text/plain": [
       "<Figure size 1080x720 with 1 Axes>"
      ]
     },
     "metadata": {},
     "output_type": "display_data"
    }
   ],
   "source": [
    "plt.figure( figsize=(15, 10 ))\n",
    "plt.plot( clusters, silhouette_list, linestyle = '--', marker = 'o', color = 'b');\n",
    "plt.xlabel('K - Number of clusters')\n",
    "plt.ylabel( 'SS - Silhouette Sore')\n",
    "plt.title( 'Silhouette Sore');"
   ]
  },
  {
   "cell_type": "code",
   "execution_count": 193,
   "metadata": {
    "ExecuteTime": {
     "end_time": "2022-05-17T18:26:58.540570Z",
     "start_time": "2022-05-17T18:26:58.197901Z"
    },
    "cell_style": "split"
   },
   "outputs": [
    {
     "data": {
      "image/png": "[encoded data removed]",
      "text/plain": [
       "<Figure size 1080x720 with 1 Axes>"
      ]
     },
     "metadata": {},
     "output_type": "display_data"
    }
   ],
   "source": [
    "plt.figure( figsize=(15, 10 ))\n",
    "plt.plot( clusters, davies_list, linestyle = '--', marker = 'o', color = 'b');\n",
    "plt.xlabel('K - Number of clusters')\n",
    "plt.ylabel( 'DB Score')\n",
    "plt.title( 'DB Index');"
   ]
  },
  {
   "cell_type": "code",
   "execution_count": 194,
   "metadata": {
    "ExecuteTime": {
     "end_time": "2022-05-17T18:27:21.245197Z",
     "start_time": "2022-05-17T18:26:58.542639Z"
    }
   },
   "outputs": [
    {
     "data": {
      "image/png": "[encoded data removed]",
      "text/plain": [
       "<Figure size 1080x720 with 2 Axes>"
      ]
     },
     "metadata": {},
     "output_type": "display_data"
    }
   ],
   "source": [
    "distortion_visualizer = KElbowVisualizer(kmeans_model, k=clusters, metric ='silhouette')\n",
    "distortion_visualizer.fit(df09.values)       \n",
    "distortion_visualizer.show();"
   ]
  },
  {
   "cell_type": "markdown",
   "metadata": {
    "ExecuteTime": {
     "end_time": "2022-02-23T16:46:17.318361Z",
     "start_time": "2022-02-23T16:46:17.303123Z"
    },
    "heading_collapsed": true
   },
   "source": [
    "## Gaussian Mixture Model (GMM)"
   ]
  },
  {
   "cell_type": "code",
   "execution_count": 259,
   "metadata": {
    "ExecuteTime": {
     "end_time": "2022-05-16T18:46:10.432822Z",
     "start_time": "2022-05-16T18:45:47.387262Z"
    },
    "hidden": true
   },
   "outputs": [
    {
     "name": "stdout",
     "output_type": "stream",
     "text": [
      "\n",
      "For n_clusters = 2: \n",
      "silhouette score = 0.2906841812439358, DB Index = 1.3729258262983774\n",
      "\n",
      "For n_clusters = 3: \n",
      "silhouette score = 0.2400989937108326, DB Index = 2.032992637505948\n",
      "\n",
      "For n_clusters = 4: \n",
      "silhouette score = 0.05060741507183273, DB Index = 2.3567833582423203\n",
      "\n",
      "For n_clusters = 5: \n",
      "silhouette score = 0.021244555734798116, DB Index = 2.090895883486513\n",
      "\n",
      "For n_clusters = 6: \n",
      "silhouette score = 0.01747789151723708, DB Index = 2.5927427997052885\n",
      "\n",
      "For n_clusters = 7: \n",
      "silhouette score = -0.07201709897107854, DB Index = 1.8509431388242255\n",
      "\n",
      "For n_clusters = 8: \n",
      "silhouette score = -0.05802351820473386, DB Index = 2.3651423274150183\n",
      "\n",
      "For n_clusters = 9: \n",
      "silhouette score = -0.03298494242938023, DB Index = 3.2342340642842196\n",
      "\n",
      "For n_clusters = 10: \n",
      "silhouette score = -0.02125423564762034, DB Index = 2.6120205930308127\n"
     ]
    }
   ],
   "source": [
    "silhouette_list = []\n",
    "davies_list = []\n",
    "calinski_score = []\n",
    "\n",
    "for k in clusters:\n",
    "    # model definition\n",
    "    gmm_model = mx.GaussianMixture(n_components = k)\n",
    "\n",
    "    # model training\n",
    "    gmm_model.fit (df09.values)\n",
    "\n",
    "    # model prediction\n",
    "    labels_gmm = gmm_model.predict (df09.values)\n",
    "\n",
    "    # model performance\n",
    "    sil = mt.silhouette_score(df09.values, labels_gmm)\n",
    "    dav = mt.davies_bouldin_score(df09.values, labels_gmm)\n",
    "    silhouette_list.append(sil)\n",
    "    davies_list.append(dav)\n",
    "    \n",
    "    # silhouette score\n",
    "    print (\"\\nFor n_clusters = {0}: \\nsilhouette score = {1}, DB Index = {2}\".format(k, sil, dav))"
   ]
  },
  {
   "cell_type": "code",
   "execution_count": 260,
   "metadata": {
    "ExecuteTime": {
     "end_time": "2022-05-16T18:46:10.716891Z",
     "start_time": "2022-05-16T18:46:10.435758Z"
    },
    "cell_style": "split",
    "hidden": true
   },
   "outputs": [
    {
     "data": {
      "image/png": "[encoded data removed]",
      "text/plain": [
       "<Figure size 1080x720 with 1 Axes>"
      ]
     },
     "metadata": {},
     "output_type": "display_data"
    }
   ],
   "source": [
    "plt.figure( figsize=(15, 10 ))\n",
    "plt.plot( clusters, silhouette_list, linestyle = '--', marker = 'o', color = 'b');\n",
    "plt.xlabel('K - Number of clusters')\n",
    "plt.ylabel( 'SS - Silhouette Sore')\n",
    "plt.title( 'Silhouette Sore');"
   ]
  },
  {
   "cell_type": "code",
   "execution_count": 261,
   "metadata": {
    "ExecuteTime": {
     "end_time": "2022-05-16T18:46:11.015098Z",
     "start_time": "2022-05-16T18:46:10.719878Z"
    },
    "cell_style": "split",
    "hidden": true
   },
   "outputs": [
    {
     "data": {
      "image/png": "[encoded data removed]",
      "text/plain": [
       "<Figure size 1080x720 with 1 Axes>"
      ]
     },
     "metadata": {},
     "output_type": "display_data"
    }
   ],
   "source": [
    "plt.figure( figsize=(15, 10 ))\n",
    "plt.plot( clusters, davies_list, linestyle = '--', marker = 'o', color = 'b');\n",
    "plt.xlabel('K - Number of clusters')\n",
    "plt.ylabel( 'DB Score')\n",
    "plt.title( 'DB Index');"
   ]
  },
  {
   "cell_type": "markdown",
   "metadata": {
    "ExecuteTime": {
     "end_time": "2022-02-23T16:46:17.318361Z",
     "start_time": "2022-02-23T16:46:17.303123Z"
    }
   },
   "source": [
    "## Density-Based Spatial Clustering of Applications with Noise (DBSCAN)"
   ]
  },
  {
   "cell_type": "code",
   "execution_count": 184,
   "metadata": {
    "ExecuteTime": {
     "end_time": "2022-05-17T18:20:17.605664Z",
     "start_time": "2022-05-17T18:20:17.338673Z"
    }
   },
   "outputs": [],
   "source": [
    "neigh = NearestNeighbors()\n",
    "nbrs = neigh.fit(df09)\n",
    "distances, indices = nbrs.kneighbors(df09)"
   ]
  },
  {
   "cell_type": "code",
   "execution_count": 185,
   "metadata": {
    "ExecuteTime": {
     "end_time": "2022-05-17T18:20:17.980632Z",
     "start_time": "2022-05-17T18:20:17.608656Z"
    }
   },
   "outputs": [
    {
     "data": {
      "image/png": "[encoded data removed]",
      "text/plain": [
       "<Figure size 1440x720 with 1 Axes>"
      ]
     },
     "metadata": {},
     "output_type": "display_data"
    }
   ],
   "source": [
    "# Plotting K-distance Graph\n",
    "distances = np.sort(distances, axis=0)\n",
    "distances = distances[:,1]\n",
    "plt.figure(figsize=(20,10))\n",
    "plt.plot(distances)\n",
    "plt.title('K-distance Graph',fontsize=20)\n",
    "plt.xlabel('Data Points sorted by distance',fontsize=14)\n",
    "plt.ylabel('Epsilon',fontsize=14)\n",
    "plt.show()"
   ]
  },
  {
   "cell_type": "code",
   "execution_count": 189,
   "metadata": {
    "ExecuteTime": {
     "end_time": "2022-05-17T18:21:38.783334Z",
     "start_time": "2022-05-17T18:21:34.928091Z"
    }
   },
   "outputs": [
    {
     "name": "stdout",
     "output_type": "stream",
     "text": [
      "Silhouette Score: 0.7247692523966677\n",
      "Number of Clusters: 2\n",
      "[-1  0]\n"
     ]
    }
   ],
   "source": [
    "eps = 4\n",
    "min_samples = 50\n",
    "\n",
    "# model definition\n",
    "dbscan_model = cl.DBSCAN (eps=eps, min_samples=min_samples)\n",
    "\n",
    "# model training & predict\n",
    "labels = dbscan_model.fit_predict (df09)\n",
    "\n",
    "sil = mt.silhouette_score ( df09.values, labels,  metric =  'euclidean')\n",
    "print('Silhouette Score: {}'.format(sil))\n",
    "print('Number of Clusters: {}'. format(len( unique(labels))))\n",
    "print(unique(labels))"
   ]
  },
  {
   "cell_type": "markdown",
   "metadata": {},
   "source": [
    "## hierarchy"
   ]
  },
  {
   "cell_type": "code",
   "execution_count": 190,
   "metadata": {
    "ExecuteTime": {
     "end_time": "2022-05-17T18:21:43.964317Z",
     "start_time": "2022-05-17T18:21:43.936328Z"
    }
   },
   "outputs": [],
   "source": [
    "import scipy.cluster.hierarchy as shc"
   ]
  },
  {
   "cell_type": "code",
   "execution_count": 191,
   "metadata": {
    "ExecuteTime": {
     "end_time": "2022-05-17T18:26:57.774675Z",
     "start_time": "2022-05-17T18:21:44.307088Z"
    }
   },
   "outputs": [
    {
     "data": {
      "text/plain": [
       "<matplotlib.lines.Line2D at 0x1e9e7c7e5e0>"
      ]
     },
     "execution_count": 191,
     "metadata": {},
     "output_type": "execute_result"
    },
    {
     "data": {
      "image/png": "[encoded data removed]",
      "text/plain": [
       "<Figure size 720x504 with 1 Axes>"
      ]
     },
     "metadata": {},
     "output_type": "display_data"
    }
   ],
   "source": [
    "plt.figure(figsize=(10, 7))  \n",
    "plt.title(\"Dendrograms\")  \n",
    "dend = shc.dendrogram(shc.linkage(df09, method='ward'))\n",
    "plt.axhline(y=20, color='r', linestyle='--')"
   ]
  },
  {
   "cell_type": "code",
   "execution_count": 265,
   "metadata": {
    "ExecuteTime": {
     "end_time": "2022-05-16T18:57:07.648299Z",
     "start_time": "2022-05-16T18:57:03.210208Z"
    }
   },
   "outputs": [
    {
     "data": {
      "text/plain": [
       "array([3, 2, 0, ..., 3, 2, 1], dtype=int64)"
      ]
     },
     "execution_count": 265,
     "metadata": {},
     "output_type": "execute_result"
    }
   ],
   "source": [
    "from sklearn.cluster import AgglomerativeClustering\n",
    "cluster = AgglomerativeClustering(n_clusters=6, affinity='euclidean', linkage='ward')  \n",
    "cluster.fit_predict(df06)"
   ]
  },
  {
   "cell_type": "code",
   "execution_count": null,
   "metadata": {},
   "outputs": [],
   "source": []
  },
  {
   "cell_type": "markdown",
   "metadata": {},
   "source": [
    "# Model Training"
   ]
  },
  {
   "cell_type": "code",
   "execution_count": 198,
   "metadata": {
    "ExecuteTime": {
     "end_time": "2022-05-17T20:19:57.763650Z",
     "start_time": "2022-05-17T20:19:57.473548Z"
    }
   },
   "outputs": [],
   "source": [
    "k = 4\n",
    "\n",
    "# model definition\n",
    "kmeans_model = cl.KMeans (n_clusters = k)\n",
    "# model training\n",
    "kmeans_model.fit(df09.values)\n",
    "# model predict\n",
    "labels_KMeans = kmeans_model.predict(df09.values)"
   ]
  },
  {
   "cell_type": "code",
   "execution_count": 199,
   "metadata": {
    "ExecuteTime": {
     "end_time": "2022-05-17T20:20:00.056734Z",
     "start_time": "2022-05-17T20:19:57.767556Z"
    }
   },
   "outputs": [
    {
     "name": "stdout",
     "output_type": "stream",
     "text": [
      "SS - Silhouette Score KMeans: 0.601910283664987\n"
     ]
    }
   ],
   "source": [
    "## SS (Silhoutte Score) \n",
    "print('SS - Silhouette Score KMeans: {}'.format(mt.silhouette_score(df09, labels_KMeans, metric='euclidean')))"
   ]
  },
  {
   "cell_type": "code",
   "execution_count": 200,
   "metadata": {
    "ExecuteTime": {
     "end_time": "2022-05-17T20:20:04.539596Z",
     "start_time": "2022-05-17T20:20:00.076654Z"
    }
   },
   "outputs": [
    {
     "data": {
      "image/png": "[encoded data removed]",
      "text/plain": [
       "<Figure size 1440x720 with 1 Axes>"
      ]
     },
     "metadata": {},
     "output_type": "display_data"
    }
   ],
   "source": [
    "visualizer = SilhouetteVisualizer(kmeans_model, colors='yellowbrick')\n",
    "plt.figure(figsize=(20,10))\n",
    "visualizer.fit(df09.values)\n",
    "visualizer.show();"
   ]
  },
  {
   "cell_type": "code",
   "execution_count": null,
   "metadata": {},
   "outputs": [],
   "source": []
  }
 ],
 "metadata": {
  "celltoolbar": "Raw Cell Format",
  "hide_input": false,
  "interpreter": {
   "hash": "a9ca4e71067c79ac42447b325c829b70f15b9ca9e8b0d165bf304148d1e80458"
  },
  "kernelspec": {
   "display_name": "Python 3 (ipykernel)",
   "language": "python",
   "name": "python3"
  },
  "language_info": {
   "codemirror_mode": {
    "name": "ipython",
    "version": 3
   },
   "file_extension": ".py",
   "mimetype": "text/x-python",
   "name": "python",
   "nbconvert_exporter": "python",
   "pygments_lexer": "ipython3",
   "version": "3.9.12"
  },
  "toc": {
   "base_numbering": "0",
   "nav_menu": {},
   "number_sections": true,
   "sideBar": false,
   "skip_h1_title": false,
   "title_cell": "Table of Contents",
   "title_sidebar": "Contents",
   "toc_cell": false,
   "toc_position": {
    "height": "47.4833px",
    "left": "1515.57px",
    "top": "110.783px",
    "width": "158.8px"
   },
   "toc_section_display": false,
   "toc_window_display": false
  }
 },
 "nbformat": 4,
 "nbformat_minor": 2
}
