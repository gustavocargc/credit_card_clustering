{
 "cells": [
  {
   "cell_type": "markdown",
   "metadata": {},
   "source": [
    "<b> <font size=\"6\"> PA006: Credit Card Dataset for Clustering </font></b>"
   ]
  },
  {
   "cell_type": "markdown",
   "metadata": {},
   "source": [
    "# Imports"
   ]
  },
  {
   "cell_type": "code",
   "execution_count": 1,
   "metadata": {
    "ExecuteTime": {
     "end_time": "2022-05-13T17:38:50.336232Z",
     "start_time": "2022-05-13T17:38:40.923562Z"
    }
   },
   "outputs": [],
   "source": [
    "import pandas as pd\n",
    "import numpy as np\n",
    "import inflection\n",
    "from IPython.core.display  import HTML\n",
    "from sklearn import metrics as mt\n",
    "from sklearn import preprocessing as pp\n",
    "\n",
    "# EDA\n",
    "from pandas_profiling import ProfileReport\n",
    "import sweetviz as sv\n",
    "\n",
    "# visualization\n",
    "from matplotlib import pyplot as plt\n",
    "import seaborn as sns\n",
    "\n",
    "# Models\n",
    "from sklearn import ensemble as en\n",
    "from sklearn import cluster as cl\n",
    "from sklearn import mixture as mx\n",
    "\n",
    "# Reducers\n",
    "from sklearn.decomposition import PCA\n",
    "from sklearn.decomposition import KernelPCA as kpca\n",
    "from sklearn               import manifold as mn\n",
    "import umap.umap_ as umap"
   ]
  },
  {
   "cell_type": "markdown",
   "metadata": {},
   "source": [
    "## Helper Functions"
   ]
  },
  {
   "cell_type": "code",
   "execution_count": 2,
   "metadata": {
    "ExecuteTime": {
     "end_time": "2022-05-13T17:38:50.367574Z",
     "start_time": "2022-05-13T17:38:50.337972Z"
    }
   },
   "outputs": [
    {
     "name": "stdout",
     "output_type": "stream",
     "text": [
      "Populating the interactive namespace from numpy and matplotlib\n"
     ]
    },
    {
     "data": {
      "text/html": [
       "<style>.container {width:100% !important;}</style>"
      ],
      "text/plain": [
       "<IPython.core.display.HTML object>"
      ]
     },
     "metadata": {},
     "output_type": "display_data"
    }
   ],
   "source": [
    "def jupyter_settings():\n",
    "    %matplotlib inline\n",
    "    %pylab inline\n",
    "    \n",
    "    plt.style.use('bmh')\n",
    "    plt.rcParams['figure.figsize'] = [15, 10]\n",
    "    plt.rcParams['font.size'] = 25\n",
    "    \n",
    "    display(HTML( '<style>.container {width:100% !important;}</style>'))\n",
    "    pd.options.display.max_columns = None\n",
    "    pd.options.display.max_rows = None\n",
    "    pd.set_option('display.expand_frame_repr', False)\n",
    "            \n",
    "    sns.set()\n",
    "    \n",
    "jupyter_settings ()"
   ]
  },
  {
   "cell_type": "markdown",
   "metadata": {},
   "source": [
    "## Loading data"
   ]
  },
  {
   "cell_type": "code",
   "execution_count": 3,
   "metadata": {
    "ExecuteTime": {
     "end_time": "2022-05-13T17:38:50.414348Z",
     "start_time": "2022-05-13T17:38:50.370534Z"
    }
   },
   "outputs": [],
   "source": [
    "df_raw = pd.read_csv('C:/Users/DML1WFE/repos/projects/pa006_bank_marketing_strategy/bank_marketing_stretegy/data/raw/CCGENERAL.csv')"
   ]
  },
  {
   "cell_type": "markdown",
   "metadata": {},
   "source": [
    "# Data Description"
   ]
  },
  {
   "cell_type": "code",
   "execution_count": 4,
   "metadata": {
    "ExecuteTime": {
     "end_time": "2022-05-13T17:38:50.429870Z",
     "start_time": "2022-05-13T17:38:50.416382Z"
    }
   },
   "outputs": [],
   "source": [
    "df01 = df_raw.copy()"
   ]
  },
  {
   "cell_type": "markdown",
   "metadata": {},
   "source": [
    "## Columns Rename"
   ]
  },
  {
   "cell_type": "code",
   "execution_count": 5,
   "metadata": {
    "ExecuteTime": {
     "end_time": "2022-05-13T17:38:50.445168Z",
     "start_time": "2022-05-13T17:38:50.431301Z"
    }
   },
   "outputs": [],
   "source": [
    "old_cols = ['CUST_ID', 'BALANCE', 'BALANCE_FREQUENCY', 'PURCHASES',\n",
    "            'ONEOFF_PURCHASES', 'INSTALLMENTS_PURCHASES', 'CASH_ADVANCE',\n",
    "            'PURCHASES_FREQUENCY', 'ONEOFF_PURCHASES_FREQUENCY',\n",
    "            'PURCHASES_INSTALLMENTS_FREQUENCY', 'CASH_ADVANCE_FREQUENCY',\n",
    "            'CASH_ADVANCE_TRX', 'PURCHASES_TRX', 'CREDIT_LIMIT', 'PAYMENTS',\n",
    "            'MINIMUM_PAYMENTS', 'PRC_FULL_PAYMENT', 'TENURE']\n",
    "\n",
    "snakecase = lambda x: inflection.underscore(x)\n",
    "\n",
    "cols_new = list(map(snakecase, old_cols))\n",
    "\n",
    "#rename\n",
    "df01.columns = cols_new"
   ]
  },
  {
   "cell_type": "markdown",
   "metadata": {},
   "source": [
    "## Data Dimensions"
   ]
  },
  {
   "cell_type": "code",
   "execution_count": 6,
   "metadata": {
    "ExecuteTime": {
     "end_time": "2022-05-13T17:38:50.461158Z",
     "start_time": "2022-05-13T17:38:50.446299Z"
    }
   },
   "outputs": [
    {
     "name": "stdout",
     "output_type": "stream",
     "text": [
      "Number of rows: 8950\n",
      "Number os columns:18\n"
     ]
    }
   ],
   "source": [
    "print ('Number of rows: {}'.format(df01.shape[0]))\n",
    "print ('Number os columns:{}'.format(df01.shape[1]))"
   ]
  },
  {
   "cell_type": "markdown",
   "metadata": {
    "cell_style": "center"
   },
   "source": [
    "## Data Types"
   ]
  },
  {
   "cell_type": "code",
   "execution_count": 7,
   "metadata": {
    "ExecuteTime": {
     "end_time": "2022-05-13T17:38:50.477024Z",
     "start_time": "2022-05-13T17:38:50.462217Z"
    },
    "cell_style": "center"
   },
   "outputs": [
    {
     "data": {
      "text/plain": [
       "cust_id                              object\n",
       "balance                             float64\n",
       "balance_frequency                   float64\n",
       "purchases                           float64\n",
       "oneoff_purchases                    float64\n",
       "installments_purchases              float64\n",
       "cash_advance                        float64\n",
       "purchases_frequency                 float64\n",
       "oneoff_purchases_frequency          float64\n",
       "purchases_installments_frequency    float64\n",
       "cash_advance_frequency              float64\n",
       "cash_advance_trx                      int64\n",
       "purchases_trx                         int64\n",
       "credit_limit                        float64\n",
       "payments                            float64\n",
       "minimum_payments                    float64\n",
       "prc_full_payment                    float64\n",
       "tenure                                int64\n",
       "dtype: object"
      ]
     },
     "execution_count": 7,
     "metadata": {},
     "output_type": "execute_result"
    }
   ],
   "source": [
    "df01.dtypes"
   ]
  },
  {
   "cell_type": "markdown",
   "metadata": {
    "cell_style": "center"
   },
   "source": [
    "## Check Missing Values"
   ]
  },
  {
   "cell_type": "code",
   "execution_count": 8,
   "metadata": {
    "ExecuteTime": {
     "end_time": "2022-05-13T17:38:50.492982Z",
     "start_time": "2022-05-13T17:38:50.478023Z"
    },
    "cell_style": "center"
   },
   "outputs": [
    {
     "data": {
      "text/plain": [
       "cust_id                             0.000000\n",
       "balance                             0.000000\n",
       "balance_frequency                   0.000000\n",
       "purchases                           0.000000\n",
       "oneoff_purchases                    0.000000\n",
       "installments_purchases              0.000000\n",
       "cash_advance                        0.000000\n",
       "purchases_frequency                 0.000000\n",
       "oneoff_purchases_frequency          0.000000\n",
       "purchases_installments_frequency    0.000000\n",
       "cash_advance_frequency              0.000000\n",
       "cash_advance_trx                    0.000000\n",
       "purchases_trx                       0.000000\n",
       "credit_limit                        0.011173\n",
       "payments                            0.000000\n",
       "minimum_payments                    3.497207\n",
       "prc_full_payment                    0.000000\n",
       "tenure                              0.000000\n",
       "dtype: float64"
      ]
     },
     "execution_count": 8,
     "metadata": {},
     "output_type": "execute_result"
    }
   ],
   "source": [
    "df01.isna().sum() / df01.shape[0] * 100"
   ]
  },
  {
   "cell_type": "markdown",
   "metadata": {},
   "source": [
    "## Replace Missing Values"
   ]
  },
  {
   "cell_type": "code",
   "execution_count": 9,
   "metadata": {
    "ExecuteTime": {
     "end_time": "2022-05-13T17:38:50.508939Z",
     "start_time": "2022-05-13T17:38:50.495975Z"
    }
   },
   "outputs": [],
   "source": [
    "df01 = df01.dropna()"
   ]
  },
  {
   "cell_type": "code",
   "execution_count": 10,
   "metadata": {
    "ExecuteTime": {
     "end_time": "2022-05-13T17:38:50.525040Z",
     "start_time": "2022-05-13T17:38:50.509936Z"
    }
   },
   "outputs": [
    {
     "data": {
      "text/plain": [
       "cust_id                             0\n",
       "balance                             0\n",
       "balance_frequency                   0\n",
       "purchases                           0\n",
       "oneoff_purchases                    0\n",
       "installments_purchases              0\n",
       "cash_advance                        0\n",
       "purchases_frequency                 0\n",
       "oneoff_purchases_frequency          0\n",
       "purchases_installments_frequency    0\n",
       "cash_advance_frequency              0\n",
       "cash_advance_trx                    0\n",
       "purchases_trx                       0\n",
       "credit_limit                        0\n",
       "payments                            0\n",
       "minimum_payments                    0\n",
       "prc_full_payment                    0\n",
       "tenure                              0\n",
       "dtype: int64"
      ]
     },
     "execution_count": 10,
     "metadata": {},
     "output_type": "execute_result"
    }
   ],
   "source": [
    "df01.isna().sum()"
   ]
  },
  {
   "cell_type": "markdown",
   "metadata": {},
   "source": [
    "## Descriptive Statistics"
   ]
  },
  {
   "cell_type": "code",
   "execution_count": 11,
   "metadata": {
    "ExecuteTime": {
     "end_time": "2022-05-13T17:38:50.540634Z",
     "start_time": "2022-05-13T17:38:50.526028Z"
    }
   },
   "outputs": [],
   "source": [
    "num_attributes = df01.select_dtypes(include = ['float64', 'int64'])\n",
    "cat_attributes = df01.select_dtypes(exclude = ['float64', 'int64', 'datetime64[ns]'])"
   ]
  },
  {
   "cell_type": "markdown",
   "metadata": {},
   "source": [
    "### Numerical Attributes"
   ]
  },
  {
   "cell_type": "code",
   "execution_count": 12,
   "metadata": {
    "ExecuteTime": {
     "end_time": "2022-05-13T17:38:50.634488Z",
     "start_time": "2022-05-13T17:38:50.542985Z"
    }
   },
   "outputs": [
    {
     "data": {
      "text/html": [
       "<div>\n",
       "<style scoped>\n",
       "    .dataframe tbody tr th:only-of-type {\n",
       "        vertical-align: middle;\n",
       "    }\n",
       "\n",
       "    .dataframe tbody tr th {\n",
       "        vertical-align: top;\n",
       "    }\n",
       "\n",
       "    .dataframe thead th {\n",
       "        text-align: right;\n",
       "    }\n",
       "</style>\n",
       "<table border=\"1\" class=\"dataframe\">\n",
       "  <thead>\n",
       "    <tr style=\"text-align: right;\">\n",
       "      <th></th>\n",
       "      <th>attributes</th>\n",
       "      <th>min</th>\n",
       "      <th>max</th>\n",
       "      <th>range</th>\n",
       "      <th>mean</th>\n",
       "      <th>median</th>\n",
       "      <th>std deviation</th>\n",
       "      <th>skewness</th>\n",
       "      <th>kurtosis</th>\n",
       "      <th>P10</th>\n",
       "      <th>P25</th>\n",
       "      <th>P50</th>\n",
       "      <th>P75</th>\n",
       "      <th>P95</th>\n",
       "      <th>P99</th>\n",
       "    </tr>\n",
       "  </thead>\n",
       "  <tbody>\n",
       "    <tr>\n",
       "      <th>0</th>\n",
       "      <td>balance</td>\n",
       "      <td>0.000000</td>\n",
       "      <td>19043.13856</td>\n",
       "      <td>19043.138560</td>\n",
       "      <td>1601.224893</td>\n",
       "      <td>916.855459</td>\n",
       "      <td>2095.449969</td>\n",
       "      <td>2.374254</td>\n",
       "      <td>7.553876</td>\n",
       "      <td>29.093764</td>\n",
       "      <td>148.095189</td>\n",
       "      <td>916.855459</td>\n",
       "      <td>2105.195853</td>\n",
       "      <td>5936.635587</td>\n",
       "      <td>9369.550879</td>\n",
       "    </tr>\n",
       "    <tr>\n",
       "      <th>1</th>\n",
       "      <td>balance_frequency</td>\n",
       "      <td>0.000000</td>\n",
       "      <td>1.00000</td>\n",
       "      <td>1.000000</td>\n",
       "      <td>0.895035</td>\n",
       "      <td>1.000000</td>\n",
       "      <td>0.207685</td>\n",
       "      <td>-2.084161</td>\n",
       "      <td>3.369586</td>\n",
       "      <td>0.545455</td>\n",
       "      <td>0.909091</td>\n",
       "      <td>1.000000</td>\n",
       "      <td>1.000000</td>\n",
       "      <td>1.000000</td>\n",
       "      <td>1.000000</td>\n",
       "    </tr>\n",
       "    <tr>\n",
       "      <th>2</th>\n",
       "      <td>purchases</td>\n",
       "      <td>0.000000</td>\n",
       "      <td>49039.57000</td>\n",
       "      <td>49039.570000</td>\n",
       "      <td>1025.433874</td>\n",
       "      <td>375.405000</td>\n",
       "      <td>2166.982511</td>\n",
       "      <td>8.055789</td>\n",
       "      <td>108.677684</td>\n",
       "      <td>0.000000</td>\n",
       "      <td>43.367500</td>\n",
       "      <td>375.405000</td>\n",
       "      <td>1145.980000</td>\n",
       "      <td>4060.092500</td>\n",
       "      <td>9127.092000</td>\n",
       "    </tr>\n",
       "    <tr>\n",
       "      <th>3</th>\n",
       "      <td>oneoff_purchases</td>\n",
       "      <td>0.000000</td>\n",
       "      <td>40761.25000</td>\n",
       "      <td>40761.250000</td>\n",
       "      <td>604.901438</td>\n",
       "      <td>44.995000</td>\n",
       "      <td>1684.210284</td>\n",
       "      <td>9.935776</td>\n",
       "      <td>160.121308</td>\n",
       "      <td>0.000000</td>\n",
       "      <td>0.000000</td>\n",
       "      <td>44.995000</td>\n",
       "      <td>599.100000</td>\n",
       "      <td>2728.372500</td>\n",
       "      <td>6783.896500</td>\n",
       "    </tr>\n",
       "    <tr>\n",
       "      <th>4</th>\n",
       "      <td>installments_purchases</td>\n",
       "      <td>0.000000</td>\n",
       "      <td>22500.00000</td>\n",
       "      <td>22500.000000</td>\n",
       "      <td>420.843533</td>\n",
       "      <td>94.785000</td>\n",
       "      <td>917.192075</td>\n",
       "      <td>7.216133</td>\n",
       "      <td>94.193373</td>\n",
       "      <td>0.000000</td>\n",
       "      <td>0.000000</td>\n",
       "      <td>94.785000</td>\n",
       "      <td>484.147500</td>\n",
       "      <td>1800.000000</td>\n",
       "      <td>3916.483000</td>\n",
       "    </tr>\n",
       "    <tr>\n",
       "      <th>5</th>\n",
       "      <td>cash_advance</td>\n",
       "      <td>0.000000</td>\n",
       "      <td>47137.21176</td>\n",
       "      <td>47137.211760</td>\n",
       "      <td>994.175523</td>\n",
       "      <td>0.000000</td>\n",
       "      <td>2121.335473</td>\n",
       "      <td>5.139629</td>\n",
       "      <td>52.143523</td>\n",
       "      <td>0.000000</td>\n",
       "      <td>0.000000</td>\n",
       "      <td>0.000000</td>\n",
       "      <td>1132.385490</td>\n",
       "      <td>4721.415498</td>\n",
       "      <td>9681.634354</td>\n",
       "    </tr>\n",
       "    <tr>\n",
       "      <th>6</th>\n",
       "      <td>purchases_frequency</td>\n",
       "      <td>0.000000</td>\n",
       "      <td>1.00000</td>\n",
       "      <td>1.000000</td>\n",
       "      <td>0.496000</td>\n",
       "      <td>0.500000</td>\n",
       "      <td>0.401249</td>\n",
       "      <td>0.033041</td>\n",
       "      <td>-1.638001</td>\n",
       "      <td>0.000000</td>\n",
       "      <td>0.083333</td>\n",
       "      <td>0.500000</td>\n",
       "      <td>0.916667</td>\n",
       "      <td>1.000000</td>\n",
       "      <td>1.000000</td>\n",
       "    </tr>\n",
       "    <tr>\n",
       "      <th>7</th>\n",
       "      <td>oneoff_purchases_frequency</td>\n",
       "      <td>0.000000</td>\n",
       "      <td>1.00000</td>\n",
       "      <td>1.000000</td>\n",
       "      <td>0.205909</td>\n",
       "      <td>0.083333</td>\n",
       "      <td>0.300036</td>\n",
       "      <td>1.504234</td>\n",
       "      <td>1.058206</td>\n",
       "      <td>0.000000</td>\n",
       "      <td>0.000000</td>\n",
       "      <td>0.083333</td>\n",
       "      <td>0.333333</td>\n",
       "      <td>1.000000</td>\n",
       "      <td>1.000000</td>\n",
       "    </tr>\n",
       "    <tr>\n",
       "      <th>8</th>\n",
       "      <td>purchases_installments_frequency</td>\n",
       "      <td>0.000000</td>\n",
       "      <td>1.00000</td>\n",
       "      <td>1.000000</td>\n",
       "      <td>0.368820</td>\n",
       "      <td>0.166667</td>\n",
       "      <td>0.398070</td>\n",
       "      <td>0.487753</td>\n",
       "      <td>-1.419279</td>\n",
       "      <td>0.000000</td>\n",
       "      <td>0.000000</td>\n",
       "      <td>0.166667</td>\n",
       "      <td>0.750000</td>\n",
       "      <td>1.000000</td>\n",
       "      <td>1.000000</td>\n",
       "    </tr>\n",
       "    <tr>\n",
       "      <th>9</th>\n",
       "      <td>cash_advance_frequency</td>\n",
       "      <td>0.000000</td>\n",
       "      <td>1.50000</td>\n",
       "      <td>1.500000</td>\n",
       "      <td>0.137604</td>\n",
       "      <td>0.000000</td>\n",
       "      <td>0.201780</td>\n",
       "      <td>1.795915</td>\n",
       "      <td>3.184233</td>\n",
       "      <td>0.000000</td>\n",
       "      <td>0.000000</td>\n",
       "      <td>0.000000</td>\n",
       "      <td>0.250000</td>\n",
       "      <td>0.583333</td>\n",
       "      <td>0.833333</td>\n",
       "    </tr>\n",
       "    <tr>\n",
       "      <th>10</th>\n",
       "      <td>cash_advance_trx</td>\n",
       "      <td>0.000000</td>\n",
       "      <td>123.00000</td>\n",
       "      <td>123.000000</td>\n",
       "      <td>3.313918</td>\n",
       "      <td>0.000000</td>\n",
       "      <td>6.912106</td>\n",
       "      <td>5.673327</td>\n",
       "      <td>60.428523</td>\n",
       "      <td>0.000000</td>\n",
       "      <td>0.000000</td>\n",
       "      <td>0.000000</td>\n",
       "      <td>4.000000</td>\n",
       "      <td>15.000000</td>\n",
       "      <td>30.000000</td>\n",
       "    </tr>\n",
       "    <tr>\n",
       "      <th>11</th>\n",
       "      <td>purchases_trx</td>\n",
       "      <td>0.000000</td>\n",
       "      <td>358.00000</td>\n",
       "      <td>358.000000</td>\n",
       "      <td>15.033233</td>\n",
       "      <td>7.000000</td>\n",
       "      <td>25.179010</td>\n",
       "      <td>4.578418</td>\n",
       "      <td>33.952279</td>\n",
       "      <td>0.000000</td>\n",
       "      <td>1.000000</td>\n",
       "      <td>7.000000</td>\n",
       "      <td>18.000000</td>\n",
       "      <td>59.000000</td>\n",
       "      <td>117.650000</td>\n",
       "    </tr>\n",
       "    <tr>\n",
       "      <th>12</th>\n",
       "      <td>credit_limit</td>\n",
       "      <td>50.000000</td>\n",
       "      <td>30000.00000</td>\n",
       "      <td>29950.000000</td>\n",
       "      <td>4522.091030</td>\n",
       "      <td>3000.000000</td>\n",
       "      <td>3659.028513</td>\n",
       "      <td>1.507019</td>\n",
       "      <td>2.773473</td>\n",
       "      <td>1200.000000</td>\n",
       "      <td>1600.000000</td>\n",
       "      <td>3000.000000</td>\n",
       "      <td>6500.000000</td>\n",
       "      <td>12000.000000</td>\n",
       "      <td>17000.000000</td>\n",
       "    </tr>\n",
       "    <tr>\n",
       "      <th>13</th>\n",
       "      <td>payments</td>\n",
       "      <td>0.049513</td>\n",
       "      <td>50721.48336</td>\n",
       "      <td>50721.433847</td>\n",
       "      <td>1784.478099</td>\n",
       "      <td>896.675701</td>\n",
       "      <td>2909.641616</td>\n",
       "      <td>5.873049</td>\n",
       "      <td>54.270814</td>\n",
       "      <td>214.777650</td>\n",
       "      <td>418.559237</td>\n",
       "      <td>896.675701</td>\n",
       "      <td>1951.142090</td>\n",
       "      <td>6152.318659</td>\n",
       "      <td>13657.620792</td>\n",
       "    </tr>\n",
       "    <tr>\n",
       "      <th>14</th>\n",
       "      <td>minimum_payments</td>\n",
       "      <td>0.019163</td>\n",
       "      <td>76406.20752</td>\n",
       "      <td>76406.188357</td>\n",
       "      <td>864.304943</td>\n",
       "      <td>312.452292</td>\n",
       "      <td>2372.428981</td>\n",
       "      <td>13.622193</td>\n",
       "      <td>283.963042</td>\n",
       "      <td>106.113465</td>\n",
       "      <td>169.163545</td>\n",
       "      <td>312.452292</td>\n",
       "      <td>825.496463</td>\n",
       "      <td>2766.593894</td>\n",
       "      <td>9037.885662</td>\n",
       "    </tr>\n",
       "    <tr>\n",
       "      <th>15</th>\n",
       "      <td>prc_full_payment</td>\n",
       "      <td>0.000000</td>\n",
       "      <td>1.00000</td>\n",
       "      <td>1.000000</td>\n",
       "      <td>0.159304</td>\n",
       "      <td>0.000000</td>\n",
       "      <td>0.296254</td>\n",
       "      <td>1.886027</td>\n",
       "      <td>2.201598</td>\n",
       "      <td>0.000000</td>\n",
       "      <td>0.000000</td>\n",
       "      <td>0.000000</td>\n",
       "      <td>0.166667</td>\n",
       "      <td>1.000000</td>\n",
       "      <td>1.000000</td>\n",
       "    </tr>\n",
       "    <tr>\n",
       "      <th>16</th>\n",
       "      <td>tenure</td>\n",
       "      <td>6.000000</td>\n",
       "      <td>12.00000</td>\n",
       "      <td>6.000000</td>\n",
       "      <td>11.534391</td>\n",
       "      <td>12.000000</td>\n",
       "      <td>1.310908</td>\n",
       "      <td>-3.011141</td>\n",
       "      <td>8.156701</td>\n",
       "      <td>10.000000</td>\n",
       "      <td>12.000000</td>\n",
       "      <td>12.000000</td>\n",
       "      <td>12.000000</td>\n",
       "      <td>12.000000</td>\n",
       "      <td>12.000000</td>\n",
       "    </tr>\n",
       "  </tbody>\n",
       "</table>\n",
       "</div>"
      ],
      "text/plain": [
       "                          attributes        min          max         range         mean       median  std deviation   skewness    kurtosis          P10          P25          P50          P75           P95           P99\n",
       "0                            balance   0.000000  19043.13856  19043.138560  1601.224893   916.855459    2095.449969   2.374254    7.553876    29.093764   148.095189   916.855459  2105.195853   5936.635587   9369.550879\n",
       "1                  balance_frequency   0.000000      1.00000      1.000000     0.895035     1.000000       0.207685  -2.084161    3.369586     0.545455     0.909091     1.000000     1.000000      1.000000      1.000000\n",
       "2                          purchases   0.000000  49039.57000  49039.570000  1025.433874   375.405000    2166.982511   8.055789  108.677684     0.000000    43.367500   375.405000  1145.980000   4060.092500   9127.092000\n",
       "3                   oneoff_purchases   0.000000  40761.25000  40761.250000   604.901438    44.995000    1684.210284   9.935776  160.121308     0.000000     0.000000    44.995000   599.100000   2728.372500   6783.896500\n",
       "4             installments_purchases   0.000000  22500.00000  22500.000000   420.843533    94.785000     917.192075   7.216133   94.193373     0.000000     0.000000    94.785000   484.147500   1800.000000   3916.483000\n",
       "5                       cash_advance   0.000000  47137.21176  47137.211760   994.175523     0.000000    2121.335473   5.139629   52.143523     0.000000     0.000000     0.000000  1132.385490   4721.415498   9681.634354\n",
       "6                purchases_frequency   0.000000      1.00000      1.000000     0.496000     0.500000       0.401249   0.033041   -1.638001     0.000000     0.083333     0.500000     0.916667      1.000000      1.000000\n",
       "7         oneoff_purchases_frequency   0.000000      1.00000      1.000000     0.205909     0.083333       0.300036   1.504234    1.058206     0.000000     0.000000     0.083333     0.333333      1.000000      1.000000\n",
       "8   purchases_installments_frequency   0.000000      1.00000      1.000000     0.368820     0.166667       0.398070   0.487753   -1.419279     0.000000     0.000000     0.166667     0.750000      1.000000      1.000000\n",
       "9             cash_advance_frequency   0.000000      1.50000      1.500000     0.137604     0.000000       0.201780   1.795915    3.184233     0.000000     0.000000     0.000000     0.250000      0.583333      0.833333\n",
       "10                  cash_advance_trx   0.000000    123.00000    123.000000     3.313918     0.000000       6.912106   5.673327   60.428523     0.000000     0.000000     0.000000     4.000000     15.000000     30.000000\n",
       "11                     purchases_trx   0.000000    358.00000    358.000000    15.033233     7.000000      25.179010   4.578418   33.952279     0.000000     1.000000     7.000000    18.000000     59.000000    117.650000\n",
       "12                      credit_limit  50.000000  30000.00000  29950.000000  4522.091030  3000.000000    3659.028513   1.507019    2.773473  1200.000000  1600.000000  3000.000000  6500.000000  12000.000000  17000.000000\n",
       "13                          payments   0.049513  50721.48336  50721.433847  1784.478099   896.675701    2909.641616   5.873049   54.270814   214.777650   418.559237   896.675701  1951.142090   6152.318659  13657.620792\n",
       "14                  minimum_payments   0.019163  76406.20752  76406.188357   864.304943   312.452292    2372.428981  13.622193  283.963042   106.113465   169.163545   312.452292   825.496463   2766.593894   9037.885662\n",
       "15                  prc_full_payment   0.000000      1.00000      1.000000     0.159304     0.000000       0.296254   1.886027    2.201598     0.000000     0.000000     0.000000     0.166667      1.000000      1.000000\n",
       "16                            tenure   6.000000     12.00000      6.000000    11.534391    12.000000       1.310908  -3.011141    8.156701    10.000000    12.000000    12.000000    12.000000     12.000000     12.000000"
      ]
     },
     "execution_count": 12,
     "metadata": {},
     "output_type": "execute_result"
    }
   ],
   "source": [
    "# estimadores de localicação\n",
    "est1 = pd.DataFrame(num_attributes.apply(np.mean)).T\n",
    "est2 = pd.DataFrame(num_attributes.apply(np.median)).T\n",
    "est3 = pd.DataFrame(num_attributes.apply(np.min)).T\n",
    "est4 = pd.DataFrame(num_attributes.apply(np.max)).T\n",
    "\n",
    "# estimadores de variabilidade\n",
    "est5 = pd.DataFrame(num_attributes.apply(np.std)).T\n",
    "est6 = pd.DataFrame(num_attributes.apply( lambda x: x.max() - x.min())).T\n",
    "\n",
    "# skewness and kurtosis\n",
    "est7 = pd.DataFrame(num_attributes.apply( lambda x: x.skew() )).T\n",
    "est8 = pd.DataFrame(num_attributes.apply( lambda x: x.kurtosis())).T\n",
    "\n",
    "# conatenate\n",
    "m1 = pd.concat([est3, est4, est6, est1, est2, est5, est7, est8]).T.reset_index()\n",
    "m1.columns = ['attributes', 'min', 'max', 'range', 'mean', 'median', 'std deviation', 'skewness', 'kurtosis']\n",
    "m1\n",
    "\n",
    "# percentis\n",
    "quartis = num_attributes.apply( lambda x: np.quantile( x, q=[0.10, 0.25, 0.50, 0.75, 0.95, 0.99])).T.reset_index()\n",
    "quartis.columns = ['attributes', 'P10', 'P25', 'P50', 'P75', 'P95', 'P99']\n",
    "\n",
    "#\n",
    "m2 = pd.merge(m1, quartis, how='inner', on='attributes')\n",
    "m2"
   ]
  },
  {
   "cell_type": "markdown",
   "metadata": {},
   "source": [
    "# Data Filtering"
   ]
  },
  {
   "cell_type": "code",
   "execution_count": 13,
   "metadata": {
    "ExecuteTime": {
     "end_time": "2022-05-13T17:38:50.649775Z",
     "start_time": "2022-05-13T17:38:50.637420Z"
    }
   },
   "outputs": [],
   "source": [
    "df02 = df01.copy()"
   ]
  },
  {
   "cell_type": "markdown",
   "metadata": {},
   "source": [
    "# Feature Engineering"
   ]
  },
  {
   "cell_type": "code",
   "execution_count": 14,
   "metadata": {
    "ExecuteTime": {
     "end_time": "2022-05-13T17:38:50.665686Z",
     "start_time": "2022-05-13T17:38:50.651693Z"
    }
   },
   "outputs": [],
   "source": [
    "df03 = df02.copy()"
   ]
  },
  {
   "cell_type": "code",
   "execution_count": 15,
   "metadata": {
    "ExecuteTime": {
     "end_time": "2022-05-13T17:38:50.681613Z",
     "start_time": "2022-05-13T17:38:50.667693Z"
    }
   },
   "outputs": [],
   "source": [
    "## pagamento a vista ou não\n",
    "#df30['one_payment'] = df30['oneoff_purchases'].apply(lambda x: 0 if x == 0.00 else 1)\n",
    "#\n",
    "## valor medio transação de compra\n",
    "#df30['avg_ticket_purchase'] = df30['purchases'] / df30['purchases_trx']\n",
    "#\n",
    "# Gasto médio por transação de compra totais\n",
    "#df03['avg_ticket_expenses'] = df03['purchases'] / df03['purchases_trx']\n",
    "#\n",
    "##soma das despesas / soma dos pagamentos\n",
    "#df30['debt_rate'] = (df30['purchases'] + df30['cash_advance']) / (df30['payments'] + df30['minimum_payments'])\n",
    "#\n",
    "## percentual de uso do limite dos cartão\n",
    "#df30['credit_limit_rate'] = df30['purchases'] + df30['cash_advance'] / 6 * (df30['credit_limit'])\n",
    "#\n",
    "#df03 = df03.replace([np.inf, -np.inf], 0.0)"
   ]
  },
  {
   "cell_type": "code",
   "execution_count": 16,
   "metadata": {
    "ExecuteTime": {
     "end_time": "2022-05-13T17:38:50.697693Z",
     "start_time": "2022-05-13T17:38:50.683608Z"
    }
   },
   "outputs": [],
   "source": [
    "#df03.sort_values(['avg_ticket_expenses'],ascending=True).head(50)"
   ]
  },
  {
   "cell_type": "markdown",
   "metadata": {},
   "source": [
    "# Exploratory Data Analysis"
   ]
  },
  {
   "cell_type": "markdown",
   "metadata": {},
   "source": [
    "## Univariate Analysis"
   ]
  },
  {
   "cell_type": "code",
   "execution_count": 17,
   "metadata": {
    "ExecuteTime": {
     "end_time": "2022-05-13T17:38:50.713609Z",
     "start_time": "2022-05-13T17:38:50.699565Z"
    }
   },
   "outputs": [],
   "source": [
    "df04 = df03.copy()"
   ]
  },
  {
   "cell_type": "markdown",
   "metadata": {},
   "source": [
    "### Pandas Profiling"
   ]
  },
  {
   "cell_type": "code",
   "execution_count": 18,
   "metadata": {
    "ExecuteTime": {
     "end_time": "2022-05-13T17:38:50.729099Z",
     "start_time": "2022-05-13T17:38:50.715525Z"
    }
   },
   "outputs": [],
   "source": [
    "#profile = ProfileReport(df01, title = 'Credit Card Dataset for Clustering')\n",
    "#profile.to_file(\"C:/Users/dml1wfe/repos/projects/pa006_bank_marketing_strategy/bank_marketing_stretegy/reports/profiling_report.html\")"
   ]
  },
  {
   "cell_type": "markdown",
   "metadata": {
    "ExecuteTime": {
     "end_time": "2022-02-22T17:16:25.641050Z",
     "start_time": "2022-02-22T17:16:25.629070Z"
    }
   },
   "source": [
    "### SweetViz"
   ]
  },
  {
   "cell_type": "code",
   "execution_count": 19,
   "metadata": {
    "ExecuteTime": {
     "end_time": "2022-05-13T17:38:50.744820Z",
     "start_time": "2022-05-13T17:38:50.731059Z"
    }
   },
   "outputs": [],
   "source": [
    "#analysis = sv.analyze(df04)\n",
    "#analysis.show_html(\"C:/Users/dml1wfe/repos/projects/pa006_bank_marketing_strategy/bank_marketing_stretegy/reports/sweetviz_report.html\")"
   ]
  },
  {
   "cell_type": "markdown",
   "metadata": {
    "ExecuteTime": {
     "end_time": "2022-02-22T17:44:34.958551Z",
     "start_time": "2022-02-22T17:44:34.948503Z"
    }
   },
   "source": [
    "### Notes"
   ]
  },
  {
   "cell_type": "markdown",
   "metadata": {
    "cell_style": "split"
   },
   "source": [
    "* balance\n",
    "    * 75% das clientes possuem saldo disponivel para compras até $ 2.500\n",
    "    \n",
    "    \n",
    "* balance_frequency\n",
    "    * a frequencia de atualização do saldo disponivel para compas é alto\n",
    "    \n",
    "    \n",
    "* purchases\n",
    "    * 22% dos clientes nao fizeram compras nos ultimos 6 meses\n",
    "    \n",
    "    \n",
    "* oneoff_purchases\n",
    "    * 48% dos clientes os ultimos 6 meses nao fizeram um one off purchases\n",
    "    \n",
    "    \n",
    "* installments_purchases\n",
    "    * 75% dos usam essa modalidade para compras ate $ 500, no entanto 43% nao realizaram compras nessa modalidade\n",
    "    \n",
    "\n",
    "* cash_advance\n",
    "    * 51% dos clientes nao utilizaram essa modalidade\n",
    "    * exite um cliente que utilizou 47 mil desta modalidade (123 trx)\n",
    "\n",
    "\n",
    "* purchases_frequency\n",
    "    * 22% dos clientes nao fizeram compras nos ultimos 6 meses\n",
    "\n",
    "\n",
    "* oneoff_purchases_frequency\n",
    "    * 48% dos clientes os ultimos 6 meses nao fizeram um one off purchases\n",
    "    * alta correlação com oneoff_purchases\n"
   ]
  },
  {
   "cell_type": "markdown",
   "metadata": {
    "cell_style": "split"
   },
   "source": [
    "* purchases_installments_frequency\n",
    "    * 43% nao realizaram compras nessa modalidade\n",
    "    * alta correlação com installments_purchases\n",
    "\n",
    "\n",
    "* cash_advance_frequency\n",
    " * 51% dos clientes nao utilizaram essa modalidade\n",
    " * alta correlação com cash_advance\n",
    "\n",
    "\n",
    "* cash_advance_trx ->\n",
    "\n",
    "\n",
    "* purchases_trx ->\n",
    "\n",
    "\n",
    "* credit_limit ->\n",
    "\n",
    "\n",
    "* payments ->\n",
    "\n",
    "\n",
    "* minimum_payments ->\n",
    "\n",
    "\n",
    "* prc_full_payment ->\n",
    "\n",
    "\n",
    "* tenure ->"
   ]
  },
  {
   "cell_type": "markdown",
   "metadata": {},
   "source": [
    "## Bivariate Analysis"
   ]
  },
  {
   "cell_type": "code",
   "execution_count": 20,
   "metadata": {
    "ExecuteTime": {
     "end_time": "2022-05-13T17:38:50.759983Z",
     "start_time": "2022-05-13T17:38:50.746020Z"
    }
   },
   "outputs": [],
   "source": [
    "#sns.pairplot(df04.drop(columns = 'cust_id'))"
   ]
  },
  {
   "cell_type": "markdown",
   "metadata": {},
   "source": [
    "# Data Preparation"
   ]
  },
  {
   "cell_type": "code",
   "execution_count": 21,
   "metadata": {
    "ExecuteTime": {
     "end_time": "2022-05-13T17:38:50.791947Z",
     "start_time": "2022-05-13T17:38:50.761046Z"
    }
   },
   "outputs": [],
   "source": [
    "df05 = df04.drop('cust_id', axis = 1)\n",
    "\n",
    "cols = df05.columns\n",
    "\n",
    "for col in cols:\n",
    "    df05[col] = np.log(1 + df05[col])"
   ]
  },
  {
   "cell_type": "code",
   "execution_count": 22,
   "metadata": {
    "ExecuteTime": {
     "end_time": "2022-05-13T17:38:50.807939Z",
     "start_time": "2022-05-13T17:38:50.792896Z"
    }
   },
   "outputs": [],
   "source": [
    "# variavel normal + sem outlier -> standard scaler (x - mean / std)\n",
    "# variavel normal + com outlier -> robust scaler (x - Q1 / ( Q3 - Q1))\n",
    "# variavel não normal           -> min max scaler (x - min / (max - min)) "
   ]
  },
  {
   "cell_type": "code",
   "execution_count": 23,
   "metadata": {
    "ExecuteTime": {
     "end_time": "2022-05-13T17:38:50.823812Z",
     "start_time": "2022-05-13T17:38:50.808851Z"
    }
   },
   "outputs": [],
   "source": [
    "#mm = pp.MinMaxScaler()\n",
    "##\n",
    "#df05['balance'] = mm.fit_transform(df05[['balance']])\n",
    "#df05['purchases'] = mm.fit_transform(df05[['purchases']])\n",
    "#df05['oneoff_purchases'] = mm.fit_transform(df05[['oneoff_purchases']])\n",
    "#df05['installments_purchases'] = mm.fit_transform(df05[['installments_purchases']])\n",
    "#df05['cash_advance'] = mm.fit_transform(df05[['cash_advance']])\n",
    "#df05['cash_advance_trx'] = mm.fit_transform(df05[['cash_advance_trx']])\n",
    "#df05['purchases_trx'] = mm.fit_transform(df05[['purchases_trx']])\n",
    "#df05['credit_limit'] = mm.fit_transform(df05[['credit_limit']])\n",
    "#df05['payments'] = mm.fit_transform(df05[['payments']])\n",
    "#df05['minimum_payments'] = mm.fit_transform(df05[['minimum_payments']])\n",
    "#df05['tenure'] = mm.fit_transform(df05[['tenure']])\n",
    "##df05['avg_ticket_expenses'] = mm.fit_transform(df05[['avg_ticket_expenses']])\n",
    "\n"
   ]
  },
  {
   "cell_type": "markdown",
   "metadata": {},
   "source": [
    "# Data Space Study"
   ]
  },
  {
   "cell_type": "code",
   "execution_count": 24,
   "metadata": {
    "ExecuteTime": {
     "end_time": "2022-05-13T17:38:50.839164Z",
     "start_time": "2022-05-13T17:38:50.824809Z"
    }
   },
   "outputs": [],
   "source": [
    "df06 = df05.copy()"
   ]
  },
  {
   "cell_type": "markdown",
   "metadata": {},
   "source": [
    "## Principal Component Analysis (PCA)"
   ]
  },
  {
   "cell_type": "code",
   "execution_count": 25,
   "metadata": {
    "ExecuteTime": {
     "end_time": "2022-05-13T17:38:50.855022Z",
     "start_time": "2022-05-13T17:38:50.840028Z"
    }
   },
   "outputs": [],
   "source": [
    "pca = PCA(n_components = df06.shape[1])\n",
    "pca_space = pca.fit_transform(df06)"
   ]
  },
  {
   "cell_type": "code",
   "execution_count": 26,
   "metadata": {
    "ExecuteTime": {
     "end_time": "2022-05-13T17:38:51.121914Z",
     "start_time": "2022-05-13T17:38:50.856984Z"
    },
    "cell_style": "center"
   },
   "outputs": [
    {
     "data": {
      "image/png": "[encoded data removed]",
      "text/plain": [
       "<Figure size 1440x720 with 1 Axes>"
      ]
     },
     "metadata": {},
     "output_type": "display_data"
    }
   ],
   "source": [
    "features = range(pca.n_components)\n",
    "plt.figure(figsize=(20,10))\n",
    "plt.bar(features, pca.explained_variance_ratio_, color='black')\n",
    "plt.plot (features, pca.explained_variance_ratio_.cumsum(), color='red', linestyle='--', marker='o');"
   ]
  },
  {
   "cell_type": "code",
   "execution_count": 27,
   "metadata": {
    "ExecuteTime": {
     "end_time": "2022-05-13T17:38:51.400716Z",
     "start_time": "2022-05-13T17:38:51.126764Z"
    }
   },
   "outputs": [
    {
     "data": {
      "image/png": "[encoded data removed]",
      "text/plain": [
       "<Figure size 1080x720 with 1 Axes>"
      ]
     },
     "metadata": {},
     "output_type": "display_data"
    }
   ],
   "source": [
    "df_pca = pd.DataFrame (pca_space)\n",
    "sns.scatterplot( x = 0, y = 1, data = df_pca);"
   ]
  },
  {
   "cell_type": "markdown",
   "metadata": {},
   "source": [
    "## Kernel PCA"
   ]
  },
  {
   "cell_type": "code",
   "execution_count": 28,
   "metadata": {
    "ExecuteTime": {
     "end_time": "2022-05-13T17:39:19.618067Z",
     "start_time": "2022-05-13T17:38:51.401712Z"
    }
   },
   "outputs": [],
   "source": [
    "kernel_pca = kpca( n_components = 2, kernel = 'rbf', gamma = 10, fit_inverse_transform = True, alpha = 0.1 )\n",
    "kernel_space = kernel_pca.fit_transform(df06)"
   ]
  },
  {
   "cell_type": "code",
   "execution_count": 29,
   "metadata": {
    "ExecuteTime": {
     "end_time": "2022-05-13T17:39:20.136753Z",
     "start_time": "2022-05-13T17:39:19.638015Z"
    }
   },
   "outputs": [
    {
     "data": {
      "image/png": "[encoded data removed]",
      "text/plain": [
       "<Figure size 1080x720 with 1 Axes>"
      ]
     },
     "metadata": {},
     "output_type": "display_data"
    }
   ],
   "source": [
    "df_kernel_space = pd.DataFrame (kernel_space)\n",
    "sns.scatterplot( x = 0, y = 1, data = df_kernel_space);"
   ]
  },
  {
   "cell_type": "markdown",
   "metadata": {},
   "source": [
    "## Uniform Manifold Approximation and Projection (UMAP)"
   ]
  },
  {
   "cell_type": "code",
   "execution_count": 30,
   "metadata": {
    "ExecuteTime": {
     "end_time": "2022-05-13T17:40:07.837699Z",
     "start_time": "2022-05-13T17:39:20.140693Z"
    },
    "cell_style": "center"
   },
   "outputs": [
    {
     "ename": "NameError",
     "evalue": "name 'embedding' is not defined",
     "output_type": "error",
     "traceback": [
      "\u001b[1;31m---------------------------------------------------------------------------\u001b[0m",
      "\u001b[1;31mNameError\u001b[0m                                 Traceback (most recent call last)",
      "\u001b[1;32m~\\AppData\\Local\\Temp\\ipykernel_11576\\1403478985.py\u001b[0m in \u001b[0;36m<module>\u001b[1;34m\u001b[0m\n\u001b[0;32m      3\u001b[0m \u001b[1;33m\u001b[0m\u001b[0m\n\u001b[0;32m      4\u001b[0m \u001b[1;31m# plot UMAP\u001b[0m\u001b[1;33m\u001b[0m\u001b[1;33m\u001b[0m\u001b[0m\n\u001b[1;32m----> 5\u001b[1;33m \u001b[0msns\u001b[0m\u001b[1;33m.\u001b[0m\u001b[0mscatterplot\u001b[0m\u001b[1;33m(\u001b[0m \u001b[0mx\u001b[0m\u001b[1;33m=\u001b[0m \u001b[0membedding\u001b[0m\u001b[1;33m[\u001b[0m \u001b[1;33m:\u001b[0m\u001b[1;33m,\u001b[0m \u001b[1;36m0\u001b[0m\u001b[1;33m]\u001b[0m\u001b[1;33m,\u001b[0m \u001b[0my\u001b[0m \u001b[1;33m=\u001b[0m \u001b[0membedding\u001b[0m\u001b[1;33m[\u001b[0m \u001b[1;33m:\u001b[0m\u001b[1;33m,\u001b[0m \u001b[1;36m1\u001b[0m\u001b[1;33m]\u001b[0m\u001b[1;33m)\u001b[0m\u001b[1;33m\u001b[0m\u001b[1;33m\u001b[0m\u001b[0m\n\u001b[0m",
      "\u001b[1;31mNameError\u001b[0m: name 'embedding' is not defined"
     ]
    }
   ],
   "source": [
    "reducer = umap.UMAP(n_components = 4, n_neighbors=30,random_state=42 )\n",
    "embedding_umap = reducer.fit_transform(df06)\n",
    "\n",
    "# plot UMAP\n",
    "sns.scatterplot( x= embedding[ :, 0], y = embedding[ :, 1])"
   ]
  },
  {
   "cell_type": "markdown",
   "metadata": {},
   "source": [
    "## T-distributed Stochastic Neighbor Embedding (TSNE)"
   ]
  },
  {
   "cell_type": "code",
   "execution_count": null,
   "metadata": {
    "ExecuteTime": {
     "end_time": "2022-05-13T17:40:07.839694Z",
     "start_time": "2022-05-13T17:40:07.839694Z"
    }
   },
   "outputs": [],
   "source": [
    "reducer = mn.TSNE(n_components = 2, n_jobs = -1,perplexity = 150, learning_rate = 'auto', random_state=42)\n",
    "embedding = reducer.fit_transform(df06)\n",
    "\n",
    "# plot UMAP\n",
    "sns.scatterplot( x= embedding[ :, 0], y = embedding[ :, 1]);"
   ]
  },
  {
   "cell_type": "markdown",
   "metadata": {},
   "source": [
    "## Tree-Based Embedding"
   ]
  },
  {
   "cell_type": "code",
   "execution_count": null,
   "metadata": {
    "ExecuteTime": {
     "end_time": "2022-05-13T17:40:07.842696Z",
     "start_time": "2022-05-13T17:40:07.842696Z"
    }
   },
   "outputs": [],
   "source": [
    "# split the predictor and target variables\n",
    "y = df06['purchases']\n",
    "X = df06.drop('purchases', axis = 1)\n",
    "\n",
    "# model definition\n",
    "rf_model = en.RandomForestRegressor(n_estimators = 1500 , random_state = 42)\n",
    "\n",
    "# model fit\n",
    "rf_model.fit(X, y)\n",
    "\n",
    "# Leaf DataFrame\n",
    "df_leafs = pd.DataFrame (rf_model.apply (X))"
   ]
  },
  {
   "cell_type": "markdown",
   "metadata": {
    "cell_style": "center"
   },
   "source": [
    "### UMAP - Tree-Based Embedding"
   ]
  },
  {
   "cell_type": "code",
   "execution_count": null,
   "metadata": {
    "ExecuteTime": {
     "end_time": "2022-05-13T17:40:07.845678Z",
     "start_time": "2022-05-13T17:40:07.845678Z"
    },
    "cell_style": "center",
    "scrolled": false
   },
   "outputs": [],
   "source": [
    "# Reducer dimensionality - UMAP\n",
    "reducer = umap.UMAP(n_components = 2,random_state=42, n_neighbors=30)\n",
    "embedding_tb_umap = reducer.fit_transform(df_leafs)\n",
    "\n",
    "# plot UMAP\n",
    "sns.scatterplot( x= embedding_tb_umap[ :, 0], y = embedding_tb_umap[ :, 1]);"
   ]
  },
  {
   "cell_type": "markdown",
   "metadata": {
    "cell_style": "center"
   },
   "source": [
    "### TSNE - Tree-Based Embedding"
   ]
  },
  {
   "cell_type": "code",
   "execution_count": null,
   "metadata": {
    "ExecuteTime": {
     "end_time": "2022-05-13T17:40:07.846676Z",
     "start_time": "2022-05-13T17:40:07.846676Z"
    },
    "cell_style": "center"
   },
   "outputs": [],
   "source": [
    "# Reducer dimensionality - TSNE\n",
    "reducer = mn.TSNE(n_components = 2, n_jobs = -1,perplexity = 150, learning_rate = 'auto', random_state=42)\n",
    "embedding_tsne_umap = reducer.fit_transform(df_leafs)\n",
    "\n",
    "# plot UMAP\n",
    "sns.scatterplot( x= embedding_tsne_umap[ :, 0], y = embedding_tsne_umap[ :, 1]);"
   ]
  },
  {
   "cell_type": "markdown",
   "metadata": {},
   "source": [
    "# Feature Selection"
   ]
  },
  {
   "cell_type": "code",
   "execution_count": null,
   "metadata": {
    "ExecuteTime": {
     "end_time": "2022-05-13T17:40:07.847674Z",
     "start_time": "2022-05-13T17:40:07.847674Z"
    }
   },
   "outputs": [],
   "source": [
    "#df07 = df_leafs.copy()"
   ]
  },
  {
   "cell_type": "code",
   "execution_count": null,
   "metadata": {
    "ExecuteTime": {
     "end_time": "2022-05-13T17:40:07.849667Z",
     "start_time": "2022-05-13T17:40:07.849667Z"
    }
   },
   "outputs": [],
   "source": [
    "#df07.shape"
   ]
  },
  {
   "cell_type": "markdown",
   "metadata": {},
   "source": [
    "# Hyperparameter Fine-Tunning"
   ]
  },
  {
   "cell_type": "code",
   "execution_count": null,
   "metadata": {
    "ExecuteTime": {
     "end_time": "2022-05-13T17:40:07.850664Z",
     "start_time": "2022-05-13T17:40:07.850664Z"
    }
   },
   "outputs": [],
   "source": [
    "#df08 = df_leafs.copy()\n",
    "#df08 = df06.copy()\n",
    "#df08 = pd.DataFrame(embedding_tb_umap)\n",
    "df08 = pd.DataFrame(embedding_umap)"
   ]
  },
  {
   "cell_type": "markdown",
   "metadata": {},
   "source": [
    "## Training Isolation Forest"
   ]
  },
  {
   "cell_type": "code",
   "execution_count": null,
   "metadata": {
    "ExecuteTime": {
     "end_time": "2022-05-13T17:40:07.852660Z",
     "start_time": "2022-05-13T17:40:07.852660Z"
    }
   },
   "outputs": [],
   "source": [
    "#model = en.IsolationForest(random_state=42)\n",
    "#\n",
    "#param_grid = {'n_estimators': [1000, 1500], \n",
    "#              'max_samples': [10], \n",
    "#              'contamination': ['auto', 0.02, 0.03], \n",
    "#              'max_features': [10, 15], \n",
    "#              'bootstrap': [True], \n",
    "#              'n_jobs': [-1]}\n",
    "#\n",
    "#grid_search = model_selection.GridSearchCV(model, \n",
    "#                                           param_grid,\n",
    "#                                           scoring=\"neg_mean_squared_error\", \n",
    "#                                           refit=True,\n",
    "#                                           cv=10, \n",
    "#                                           return_train_score=True)\n",
    "#grid_search.fit(df08)\n",
    "#\n",
    "#best_model = grid_search.fit(df08)\n",
    "#print('Optimum parameters', best_model.best_params_)"
   ]
  },
  {
   "cell_type": "code",
   "execution_count": null,
   "metadata": {
    "ExecuteTime": {
     "end_time": "2022-05-13T17:40:07.853656Z",
     "start_time": "2022-05-13T17:40:07.853656Z"
    }
   },
   "outputs": [],
   "source": [
    "# model definition\n",
    "iso_model = en.IsolationForest(n_jobs = -1, n_estimators=1500, contamination=0.5)\n",
    "\n",
    "#model fit\n",
    "iso_model.fit (df08.values)\n",
    "\n",
    "# predict\n",
    "pred = iso_model.predict(df08.values)\n",
    "pred_scores = -1 * iso_model.score_samples(df08.values)\n",
    "\n",
    "# outlier detector\n",
    "df08['outlier'] = pred_scores"
   ]
  },
  {
   "cell_type": "code",
   "execution_count": null,
   "metadata": {
    "ExecuteTime": {
     "end_time": "2022-05-13T17:40:07.857649Z",
     "start_time": "2022-05-13T17:40:07.857649Z"
    },
    "cell_style": "split"
   },
   "outputs": [],
   "source": [
    "df08.sort_values(by ='outlier', ascending = False).head(10)"
   ]
  },
  {
   "cell_type": "code",
   "execution_count": null,
   "metadata": {
    "ExecuteTime": {
     "end_time": "2022-05-13T17:40:07.858694Z",
     "start_time": "2022-05-13T17:40:07.858694Z"
    },
    "cell_style": "split"
   },
   "outputs": [],
   "source": [
    "df08.sort_values(by ='outlier', ascending = True).head(10)"
   ]
  },
  {
   "cell_type": "markdown",
   "metadata": {},
   "source": [
    "## Removing Outliers"
   ]
  },
  {
   "cell_type": "code",
   "execution_count": null,
   "metadata": {
    "ExecuteTime": {
     "end_time": "2022-05-13T17:40:07.860640Z",
     "start_time": "2022-05-13T17:40:07.860640Z"
    }
   },
   "outputs": [],
   "source": [
    "df082 = df08.copy()"
   ]
  },
  {
   "cell_type": "code",
   "execution_count": null,
   "metadata": {
    "ExecuteTime": {
     "end_time": "2022-05-13T17:40:07.862633Z",
     "start_time": "2022-05-13T17:40:07.862633Z"
    }
   },
   "outputs": [],
   "source": [
    "threshold = 0.55\n",
    "df082['outlier_flag'] = df082['outlier'].apply(lambda x: 1 if x > threshold else 0 )\n",
    "df082 = df082.loc[df082['outlier_flag'] == 0, :]"
   ]
  },
  {
   "cell_type": "code",
   "execution_count": null,
   "metadata": {
    "ExecuteTime": {
     "end_time": "2022-05-13T17:40:07.863630Z",
     "start_time": "2022-05-13T17:40:07.863630Z"
    }
   },
   "outputs": [],
   "source": [
    "print(f\" Removidos {df08.shape[0] - df082.shape[0]} outliers, representando {round(((df08.shape[0] - df082.shape[0]) / df08.shape[0])*100,2)}% do dos dados.\")"
   ]
  },
  {
   "cell_type": "markdown",
   "metadata": {},
   "source": [
    "# Model Training"
   ]
  },
  {
   "cell_type": "code",
   "execution_count": null,
   "metadata": {
    "ExecuteTime": {
     "end_time": "2022-05-13T17:40:07.865625Z",
     "start_time": "2022-05-13T17:40:07.865625Z"
    }
   },
   "outputs": [],
   "source": [
    "df09 = df082.copy()"
   ]
  },
  {
   "cell_type": "code",
   "execution_count": null,
   "metadata": {
    "ExecuteTime": {
     "end_time": "2022-05-13T17:40:07.866925Z",
     "start_time": "2022-05-13T17:40:07.866925Z"
    }
   },
   "outputs": [],
   "source": [
    "clusters = list(range(2, 11))"
   ]
  },
  {
   "cell_type": "markdown",
   "metadata": {},
   "source": [
    "## K-Means clustering (K-Means)"
   ]
  },
  {
   "cell_type": "code",
   "execution_count": null,
   "metadata": {
    "ExecuteTime": {
     "end_time": "2022-05-13T17:40:07.867972Z",
     "start_time": "2022-05-13T17:40:07.867972Z"
    },
    "cell_style": "center"
   },
   "outputs": [],
   "source": [
    "silhouette_list = []\n",
    "davies_list = []\n",
    "\n",
    "for k in clusters:\n",
    "    # model definition\n",
    "    kmeans_model = cl.KMeans (n_clusters = k)\n",
    "\n",
    "    # model training\n",
    "    kmeans_model.fit(df09.values)\n",
    "\n",
    "    # model predict\n",
    "    labels_kmenas = kmeans_model.predict(df09.values)\n",
    "\n",
    "    # model performance\n",
    "    sil = mt.silhouette_score(df09, labels_kmenas)\n",
    "    dav = mt.davies_bouldin_score(df09, labels_kmenas)\n",
    "    silhouette_list.append(sil)\n",
    "    davies_list.append(dav)\n",
    "    \n",
    "    # silhouette score\n",
    "    print (\"\\nFor n_clusters = {0}: \\nsilhouette score = {1}, DB Index = {2}\".format(k, sil, dav))"
   ]
  },
  {
   "cell_type": "code",
   "execution_count": null,
   "metadata": {
    "ExecuteTime": {
     "end_time": "2022-05-13T17:40:07.869923Z",
     "start_time": "2022-05-13T17:40:07.869923Z"
    },
    "cell_style": "split"
   },
   "outputs": [],
   "source": [
    "plt.figure( figsize=(15, 10 ))\n",
    "plt.plot( clusters, silhouette_list, linestyle = '--', marker = 'o', color = 'b');\n",
    "plt.xlabel('K - Number of clusters')\n",
    "plt.ylabel( 'SS - Silhouette Sore')\n",
    "plt.title( 'Silhouette Sore');"
   ]
  },
  {
   "cell_type": "code",
   "execution_count": null,
   "metadata": {
    "ExecuteTime": {
     "end_time": "2022-05-13T17:40:07.871918Z",
     "start_time": "2022-05-13T17:40:07.871918Z"
    },
    "cell_style": "split"
   },
   "outputs": [],
   "source": [
    "plt.figure( figsize=(15, 10 ))\n",
    "plt.plot( clusters, davies_list, linestyle = '--', marker = 'o', color = 'b');\n",
    "plt.xlabel('K - Number of clusters')\n",
    "plt.ylabel( 'DB Score')\n",
    "plt.title( 'DB Index');"
   ]
  },
  {
   "cell_type": "markdown",
   "metadata": {
    "ExecuteTime": {
     "end_time": "2022-02-23T16:46:17.318361Z",
     "start_time": "2022-02-23T16:46:17.303123Z"
    }
   },
   "source": [
    "## Gaussian Mixture Model (GMM)"
   ]
  },
  {
   "cell_type": "code",
   "execution_count": null,
   "metadata": {
    "ExecuteTime": {
     "end_time": "2022-05-13T17:40:07.873912Z",
     "start_time": "2022-05-13T17:40:07.873912Z"
    }
   },
   "outputs": [],
   "source": [
    "silhouette_list = []\n",
    "davies_list = []\n",
    "\n",
    "for k in clusters:\n",
    "    # model definition\n",
    "    gmm_model = mx.GaussianMixture(n_components = k)\n",
    "\n",
    "    # model training\n",
    "    gmm_model.fit (df09.values)\n",
    "\n",
    "    # model prediction\n",
    "    labels_gmm = gmm_model.predict (df09.values)\n",
    "\n",
    "    # model performance\n",
    "    sil = mt.silhouette_score(df09.values, labels_gmm)\n",
    "    dav = mt.davies_bouldin_score(df09.values, labels_gmm)\n",
    "    silhouette_list.append(sil)\n",
    "    davies_list.append(dav)\n",
    "    \n",
    "    # silhouette score\n",
    "    print (\"\\nFor n_clusters = {0}: \\nsilhouette score = {1}, DB Index = {2}\".format(k, sil, dav))"
   ]
  },
  {
   "cell_type": "code",
   "execution_count": null,
   "metadata": {
    "ExecuteTime": {
     "end_time": "2022-05-13T17:40:07.874909Z",
     "start_time": "2022-05-13T17:40:07.874909Z"
    },
    "cell_style": "split"
   },
   "outputs": [],
   "source": [
    "plt.figure( figsize=(15, 10 ))\n",
    "plt.plot( clusters, silhouette_list, linestyle = '--', marker = 'o', color = 'b');\n",
    "plt.xlabel('K - Number of clusters')\n",
    "plt.ylabel( 'SS - Silhouette Sore')\n",
    "plt.title( 'Silhouette Sore');"
   ]
  },
  {
   "cell_type": "code",
   "execution_count": null,
   "metadata": {
    "ExecuteTime": {
     "end_time": "2022-05-13T17:40:07.876904Z",
     "start_time": "2022-05-13T17:40:07.876904Z"
    },
    "cell_style": "split"
   },
   "outputs": [],
   "source": [
    "plt.figure( figsize=(15, 10 ))\n",
    "plt.plot( clusters, davies_list, linestyle = '--', marker = 'o', color = 'b');\n",
    "plt.xlabel('K - Number of clusters')\n",
    "plt.ylabel( 'DB Score')\n",
    "plt.title( 'DB Index');"
   ]
  },
  {
   "cell_type": "markdown",
   "metadata": {},
   "source": [
    "# Model Training"
   ]
  },
  {
   "cell_type": "code",
   "execution_count": null,
   "metadata": {
    "ExecuteTime": {
     "end_time": "2022-05-13T17:40:07.877901Z",
     "start_time": "2022-05-13T17:40:07.877901Z"
    }
   },
   "outputs": [],
   "source": [
    "k = 7\n",
    "\n",
    "# model definition\n",
    "kmeans_model = cl.KMeans (n_clusters = k)\n",
    "\n",
    "# model training\n",
    "kmeans_model.fit(df09.values)\n",
    "\n",
    "# model predict\n",
    "labels_kmeans = kmeans_model.predict(df09.values)"
   ]
  },
  {
   "cell_type": "code",
   "execution_count": null,
   "metadata": {
    "ExecuteTime": {
     "end_time": "2022-05-13T17:40:07.879222Z",
     "start_time": "2022-05-13T17:40:07.879222Z"
    }
   },
   "outputs": [],
   "source": [
    "## SS (Silhoutte Score) \n",
    "print('SS - Silhouette Score KMeans: {}'.format(mt.silhouette_score(df09, labels_kmeans, metric='euclidean')))"
   ]
  },
  {
   "cell_type": "code",
   "execution_count": null,
   "metadata": {
    "ExecuteTime": {
     "end_time": "2022-05-13T17:40:07.880978Z",
     "start_time": "2022-05-13T17:40:07.880978Z"
    }
   },
   "outputs": [],
   "source": [
    "df09['cluster_id'] = labels_kmeans\n",
    "df09.head()"
   ]
  },
  {
   "cell_type": "code",
   "execution_count": null,
   "metadata": {
    "ExecuteTime": {
     "end_time": "2022-05-13T17:40:07.881890Z",
     "start_time": "2022-05-13T17:40:07.881890Z"
    }
   },
   "outputs": [],
   "source": [
    "#plot data with seaborn\n",
    "sns.scatterplot(x = 0, y = 1, hue = 'cluster_id', data = df09, palette = 'Set1')\n",
    "plt.show()"
   ]
  },
  {
   "cell_type": "markdown",
   "metadata": {
    "ExecuteTime": {
     "end_time": "2022-02-23T13:42:37.845357Z",
     "start_time": "2022-02-23T13:42:37.830788Z"
    }
   },
   "source": [
    "# Deploy to Production"
   ]
  },
  {
   "cell_type": "markdown",
   "metadata": {
    "ExecuteTime": {
     "end_time": "2022-02-21T12:36:33.048003Z",
     "start_time": "2022-02-21T12:36:33.035313Z"
    }
   },
   "source": [
    "## Cluster Validation"
   ]
  },
  {
   "cell_type": "markdown",
   "metadata": {},
   "source": [
    "# Clustering Analysis"
   ]
  },
  {
   "cell_type": "code",
   "execution_count": null,
   "metadata": {
    "ExecuteTime": {
     "end_time": "2022-05-13T17:40:07.883940Z",
     "start_time": "2022-05-13T17:40:07.883940Z"
    }
   },
   "outputs": [],
   "source": [
    "df10 = df09.copy()\n",
    "df10['labels'] = df_reducer['clusters']"
   ]
  },
  {
   "cell_type": "code",
   "execution_count": null,
   "metadata": {
    "ExecuteTime": {
     "end_time": "2022-05-13T17:40:07.885880Z",
     "start_time": "2022-05-13T17:40:07.885880Z"
    }
   },
   "outputs": [],
   "source": [
    "df_cluster"
   ]
  },
  {
   "cell_type": "markdown",
   "metadata": {
    "heading_collapsed": true
   },
   "source": [
    "# EDA - Insight Reports"
   ]
  },
  {
   "cell_type": "markdown",
   "metadata": {},
   "source": [
    "# Deploy to Production"
   ]
  },
  {
   "cell_type": "code",
   "execution_count": null,
   "metadata": {},
   "outputs": [],
   "source": []
  },
  {
   "cell_type": "code",
   "execution_count": null,
   "metadata": {},
   "outputs": [],
   "source": []
  },
  {
   "cell_type": "code",
   "execution_count": null,
   "metadata": {},
   "outputs": [],
   "source": []
  }
 ],
 "metadata": {
  "hide_input": false,
  "interpreter": {
   "hash": "a9ca4e71067c79ac42447b325c829b70f15b9ca9e8b0d165bf304148d1e80458"
  },
  "kernelspec": {
   "display_name": "Python 3 (ipykernel)",
   "language": "python",
   "name": "python3"
  },
  "language_info": {
   "codemirror_mode": {
    "name": "ipython",
    "version": 3
   },
   "file_extension": ".py",
   "mimetype": "text/x-python",
   "name": "python",
   "nbconvert_exporter": "python",
   "pygments_lexer": "ipython3",
   "version": "3.9.12"
  },
  "toc": {
   "base_numbering": "0",
   "nav_menu": {},
   "number_sections": true,
   "sideBar": false,
   "skip_h1_title": false,
   "title_cell": "Table of Contents",
   "title_sidebar": "Contents",
   "toc_cell": false,
   "toc_position": {
    "height": "47.4833px",
    "left": "1515.57px",
    "top": "110.783px",
    "width": "158.8px"
   },
   "toc_section_display": false,
   "toc_window_display": true
  }
 },
 "nbformat": 4,
 "nbformat_minor": 2
}
