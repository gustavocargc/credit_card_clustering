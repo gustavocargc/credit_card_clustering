{
 "cells": [
  {
   "cell_type": "markdown",
   "metadata": {},
   "source": [
    "# PA006: Credit Card Dataset for Clustering"
   ]
  },
  {
   "cell_type": "markdown",
   "id": "11a90148",
   "metadata": {},
   "source": [
    "# International Bank\n",
    "    O International Bank é um banco internacional que fornece produtos financeiros como empréstimos,\n",
    "    contas correntes, contas poupança, opções de investimentos,cartões de crédito e etc.\n",
    "\n",
    "    A cada quarter do ano, os líderes se reúnem para decidir os objetivos da empresa para os próximos 3 meses.\n",
    "\n",
    "    Nessa última reunião, uma das metas decididas é a criação de uma estratégia de marketing para abordar os clientes que usam cartão de crédito.\n",
    "\n",
    "    A empresa possui um conjunto de dados sobre o comportamento de uso de aproximadamente 9000 usuários de cartão de crédito ativos,\n",
    "    durante os últimos 6 meses e o arquivo está no nível de clientes e possui 18 variáveis comportamentais."
   ]
  },
  {
   "cell_type": "markdown",
   "metadata": {},
   "source": [
    "# 0.0 Planejamento da Solução"
   ]
  },
  {
   "cell_type": "markdown",
   "metadata": {},
   "source": [
    "## Input"
   ]
  },
  {
   "cell_type": "markdown",
   "id": "83d4d672",
   "metadata": {},
   "source": [
    "        1. Problema de negócio\n",
    "\n",
    "        -> criação de uma estratégia de marketing para abordar os clientes que usam cartão de crédito.\n",
    "\n",
    "        2. Conjunto de dados\n",
    "\n",
    "        -> A empresa possui um conjunto de dados sobre o comportamento de\n",
    "         uso de aproximadamente 9000 usuários de cartão de crédito ativos, durante os últimos 6 meses"
   ]
  },
  {
   "cell_type": "markdown",
   "metadata": {},
   "source": [
    "## Output"
   ]
  },
  {
   "cell_type": "markdown",
   "metadata": {},
   "source": [
    "1 - Definir uma  estratégia de marketing ideal para cada tipo de cliente\n",
    "\n",
    "    -> Relatório com as respostas das perguntas do negócio\n",
    "\n",
    "            1. Qual tipo de marketing ideal para cada grupo de clientes?\n",
    "            2. Quais serão os grupos de clientes?\n",
    "            3. Qual grupo de clientes é mais rentável?\n",
    "            4. Qual grupo de clientes possui a maior frequencia de compras?\n",
    "            5. Qual grupo de cliente gastam mais?\n",
    "            6. Clientes mais antigos gastam mais?\n",
    "            7. Clientes pagam a fatura cheia ou parcelada?\n",
    "            8. Clientes com maior limite de credito gastam mais ?\n",
    "            9. Quais ações o time de marketing pode realizar para aumentar o faturamento?"
   ]
  },
  {
   "cell_type": "markdown",
   "metadata": {},
   "source": [
    "## Tasks"
   ]
  },
  {
   "cell_type": "markdown",
   "metadata": {},
   "source": [
    "    1 - Criar uma segmentação de clientes baseado em critérios claros de seleção.\n",
    "\n",
    "    2 - Tornar a segmentação de clientes acessível para o time de operações.\n",
    "\n",
    "    3 - Ensinar o time de operações sobre como usar a sua solução.\n",
    "\n",
    "    4 - Transferir o conhecimento para os Cientistas de Dados da International Bank.\n",
    "\n",
    "    5 - Recomendar 2-3 alavancas de negócio para cada segmento de clientes"
   ]
  },
  {
   "cell_type": "markdown",
   "metadata": {},
   "source": [
    "## Benchmark de Soluções"
   ]
  },
  {
   "cell_type": "markdown",
   "metadata": {},
   "source": [
    "How Do Credit Card Companies Make Money?\n",
    "\n",
    "interest -> Issuers typically charge interest only when you carry a balance from month to month.\n",
    "    \n",
    "fees charged to cardholders -> Annual fees / Cash advance fees / Balance transfer fees / Late fees\n",
    "\n",
    "transaction fees paid by businesses that accept credit cards. -> interchange,” and is usually about 1% to 3% of the transaction.\n"
   ]
  },
  {
   "cell_type": "markdown",
   "metadata": {},
   "source": [
    "## Data Field"
   ]
  },
  {
   "cell_type": "markdown",
   "metadata": {},
   "source": [
    "CUSTID: Identification of Credit Card holder (Categorical)\n",
    "\n",
    "BALANCE: Balance amount left in their account to make purchases\n",
    "\n",
    "BALANCEFREQUENCY: How frequently the Balance is updated, score between 0 and 1 (1 = frequently updated, 0 = not frequently updated)\n",
    "\n",
    "PURCHASES: Amount of purchases made from account\n",
    "\n",
    "ONEOFFPURCHASES: Maximum purchase amount done in one-go\n",
    "\n",
    "INSTALLMENTSPURCHASES: Amount of purchase done in installment\n",
    "\n",
    "CASHADVANCE: Cash in advance given by the user\n",
    "\n",
    "PURCHASESFREQUENCY: How frequently the Purchases are being made, score between 0 and 1 (1 = frequently purchased, 0 = not frequently purchased) -----> purchases_frequency = purchases_trx  / tenure <-----\n",
    "\n",
    "ONEOFFPURCHASESFREQUENCY: How frequently Purchases are happening in one-go (1 = frequently purchased, 0 = not frequently purchased)\n",
    "\n",
    "PURCHASESINSTALLMENTSFREQUENCY: How frequently purchases in installments are being done (1 = frequently done, 0 = not frequently done)\n",
    "\n",
    "CASHADVANCEFREQUENCY: How frequently the cash in advance being paid -----> cash_advance_frequency = cash_advance_trx / tenure <-----\n",
    "\n",
    "CASHADVANCETRX: Number of Transactions made with \"Cash in Advanced\"\n",
    "\n",
    "PURCHASESTRX: Number of purchase transactions made\n",
    "\n",
    "CREDITLIMIT: Limit of Credit Card for userPAYMENTS: Amount of Payment done by user\n",
    "\n",
    "MINIMUM_PAYMENTS: Minimum amount of payments made by user\n",
    "\n",
    "PRCFULLPAYMENT: Percent of full payment paid by user\n",
    "\n",
    "TENURE: Tenure of credit card service for user"
   ]
  },
  {
   "cell_type": "markdown",
   "metadata": {},
   "source": [
    "# 0.0. Imports"
   ]
  },
  {
   "cell_type": "code",
   "execution_count": 1,
   "metadata": {},
   "outputs": [],
   "source": [
    "import pandas as pd\n",
    "import numpy as np\n",
    "import inflection\n",
    "import seaborn as sns\n",
    "\n",
    "from sklearn import cluster as c\n",
    "from sklearn import metrics as m\n",
    "\n",
    "from matplotlib import pyplot as plt"
   ]
  },
  {
   "cell_type": "markdown",
   "metadata": {},
   "source": [
    "## 0.1. Loading data"
   ]
  },
  {
   "cell_type": "code",
   "execution_count": 2,
   "metadata": {},
   "outputs": [],
   "source": [
    "df_raw = pd.read_csv('C:/Users/DML1WFE/repos/projects/pa006_bank_marketing_strategy/bank_marketing_stretegy/data/raw/CCGENERAL.csv')"
   ]
  },
  {
   "cell_type": "markdown",
   "metadata": {},
   "source": [
    "# 1.0. Data Description"
   ]
  },
  {
   "cell_type": "code",
   "execution_count": 3,
   "metadata": {},
   "outputs": [],
   "source": [
    "df01 = df_raw.copy()"
   ]
  },
  {
   "cell_type": "markdown",
   "metadata": {},
   "source": [
    "## 1.1. Columns Rename"
   ]
  },
  {
   "cell_type": "code",
   "execution_count": 4,
   "metadata": {},
   "outputs": [],
   "source": [
    "old_cols = ['CUST_ID', 'BALANCE', 'BALANCE_FREQUENCY', 'PURCHASES',\n",
    "            'ONEOFF_PURCHASES', 'INSTALLMENTS_PURCHASES', 'CASH_ADVANCE',\n",
    "            'PURCHASES_FREQUENCY', 'ONEOFF_PURCHASES_FREQUENCY',\n",
    "            'PURCHASES_INSTALLMENTS_FREQUENCY', 'CASH_ADVANCE_FREQUENCY',\n",
    "            'CASH_ADVANCE_TRX', 'PURCHASES_TRX', 'CREDIT_LIMIT', 'PAYMENTS',\n",
    "            'MINIMUM_PAYMENTS', 'PRC_FULL_PAYMENT', 'TENURE']\n",
    "\n",
    "snakecase = lambda x: inflection.underscore(x)\n",
    "\n",
    "cols_new = list(map(snakecase, old_cols))\n",
    "\n",
    "#rename\n",
    "df01.columns = cols_new"
   ]
  },
  {
   "cell_type": "markdown",
   "metadata": {},
   "source": [
    "## 1.2. Data Dimensions"
   ]
  },
  {
   "cell_type": "code",
   "execution_count": 5,
   "metadata": {},
   "outputs": [
    {
     "name": "stdout",
     "output_type": "stream",
     "text": [
      "Number of rows: 8950\n",
      "Number os columns:18\n"
     ]
    }
   ],
   "source": [
    "print ('Number of rows: {}'.format(df01.shape[0]))\n",
    "print ('Number os columns:{}'.format(df01.shape[1]))"
   ]
  },
  {
   "cell_type": "markdown",
   "metadata": {},
   "source": [
    "## 1.3. Data Types"
   ]
  },
  {
   "cell_type": "code",
   "execution_count": 6,
   "metadata": {},
   "outputs": [
    {
     "data": {
      "text/plain": [
       "cust_id                              object\n",
       "balance                             float64\n",
       "balance_frequency                   float64\n",
       "purchases                           float64\n",
       "oneoff_purchases                    float64\n",
       "installments_purchases              float64\n",
       "cash_advance                        float64\n",
       "purchases_frequency                 float64\n",
       "oneoff_purchases_frequency          float64\n",
       "purchases_installments_frequency    float64\n",
       "cash_advance_frequency              float64\n",
       "cash_advance_trx                      int64\n",
       "purchases_trx                         int64\n",
       "credit_limit                        float64\n",
       "payments                            float64\n",
       "minimum_payments                    float64\n",
       "prc_full_payment                    float64\n",
       "tenure                                int64\n",
       "dtype: object"
      ]
     },
     "execution_count": 6,
     "metadata": {},
     "output_type": "execute_result"
    }
   ],
   "source": [
    "df01.dtypes"
   ]
  },
  {
   "cell_type": "markdown",
   "metadata": {},
   "source": [
    "## 1.4. Check Missing Values"
   ]
  },
  {
   "cell_type": "code",
   "execution_count": 7,
   "metadata": {},
   "outputs": [
    {
     "data": {
      "text/plain": [
       "cust_id                               0\n",
       "balance                               0\n",
       "balance_frequency                     0\n",
       "purchases                             0\n",
       "oneoff_purchases                      0\n",
       "installments_purchases                0\n",
       "cash_advance                          0\n",
       "purchases_frequency                   0\n",
       "oneoff_purchases_frequency            0\n",
       "purchases_installments_frequency      0\n",
       "cash_advance_frequency                0\n",
       "cash_advance_trx                      0\n",
       "purchases_trx                         0\n",
       "credit_limit                          1\n",
       "payments                              0\n",
       "minimum_payments                    313\n",
       "prc_full_payment                      0\n",
       "tenure                                0\n",
       "dtype: int64"
      ]
     },
     "execution_count": 7,
     "metadata": {},
     "output_type": "execute_result"
    }
   ],
   "source": [
    "df01.isna().sum()"
   ]
  },
  {
   "cell_type": "code",
   "execution_count": 8,
   "metadata": {},
   "outputs": [
    {
     "data": {
      "text/plain": [
       "cust_id                             0.000000\n",
       "balance                             0.000000\n",
       "balance_frequency                   0.000000\n",
       "purchases                           0.000000\n",
       "oneoff_purchases                    0.000000\n",
       "installments_purchases              0.000000\n",
       "cash_advance                        0.000000\n",
       "purchases_frequency                 0.000000\n",
       "oneoff_purchases_frequency          0.000000\n",
       "purchases_installments_frequency    0.000000\n",
       "cash_advance_frequency              0.000000\n",
       "cash_advance_trx                    0.000000\n",
       "purchases_trx                       0.000000\n",
       "credit_limit                        0.000112\n",
       "payments                            0.000000\n",
       "minimum_payments                    0.034972\n",
       "prc_full_payment                    0.000000\n",
       "tenure                              0.000000\n",
       "dtype: float64"
      ]
     },
     "execution_count": 8,
     "metadata": {},
     "output_type": "execute_result"
    }
   ],
   "source": [
    "df01.isna().sum() / df01.shape[0]"
   ]
  },
  {
   "cell_type": "markdown",
   "metadata": {},
   "source": [
    "## 1.5. Replace Missing Values"
   ]
  },
  {
   "cell_type": "code",
   "execution_count": 9,
   "metadata": {},
   "outputs": [],
   "source": [
    "df01 = df01.dropna()"
   ]
  },
  {
   "cell_type": "code",
   "execution_count": 10,
   "metadata": {},
   "outputs": [
    {
     "data": {
      "text/plain": [
       "cust_id                             0\n",
       "balance                             0\n",
       "balance_frequency                   0\n",
       "purchases                           0\n",
       "oneoff_purchases                    0\n",
       "installments_purchases              0\n",
       "cash_advance                        0\n",
       "purchases_frequency                 0\n",
       "oneoff_purchases_frequency          0\n",
       "purchases_installments_frequency    0\n",
       "cash_advance_frequency              0\n",
       "cash_advance_trx                    0\n",
       "purchases_trx                       0\n",
       "credit_limit                        0\n",
       "payments                            0\n",
       "minimum_payments                    0\n",
       "prc_full_payment                    0\n",
       "tenure                              0\n",
       "dtype: int64"
      ]
     },
     "execution_count": 10,
     "metadata": {},
     "output_type": "execute_result"
    }
   ],
   "source": [
    "df01.isna().sum()"
   ]
  },
  {
   "cell_type": "markdown",
   "metadata": {},
   "source": [
    "## 1.6. Descriptive Statistics"
   ]
  },
  {
   "cell_type": "code",
   "execution_count": 11,
   "metadata": {},
   "outputs": [],
   "source": [
    "num_attributes = df01.select_dtypes(include = ['float64', 'int64'])\n",
    "cat_attributes = df01.select_dtypes(exclude = ['float64', 'int64', 'datetime64[ns]'])"
   ]
  },
  {
   "cell_type": "markdown",
   "metadata": {},
   "source": [
    "### 1.6.1. Numerical Attributes"
   ]
  },
  {
   "cell_type": "code",
   "execution_count": 69,
   "metadata": {},
   "outputs": [
    {
     "data": {
      "text/html": [
       "<div>\n",
       "<style scoped>\n",
       "    .dataframe tbody tr th:only-of-type {\n",
       "        vertical-align: middle;\n",
       "    }\n",
       "\n",
       "    .dataframe tbody tr th {\n",
       "        vertical-align: top;\n",
       "    }\n",
       "\n",
       "    .dataframe thead th {\n",
       "        text-align: right;\n",
       "    }\n",
       "</style>\n",
       "<table border=\"1\" class=\"dataframe\">\n",
       "  <thead>\n",
       "    <tr style=\"text-align: right;\">\n",
       "      <th></th>\n",
       "      <th>attributes</th>\n",
       "      <th>min</th>\n",
       "      <th>max</th>\n",
       "      <th>range</th>\n",
       "      <th>mean</th>\n",
       "      <th>median</th>\n",
       "      <th>std deviation</th>\n",
       "      <th>skewness</th>\n",
       "      <th>kurtosis</th>\n",
       "      <th>P10</th>\n",
       "      <th>P25</th>\n",
       "      <th>P50</th>\n",
       "      <th>P75</th>\n",
       "      <th>P95</th>\n",
       "      <th>P99</th>\n",
       "    </tr>\n",
       "  </thead>\n",
       "  <tbody>\n",
       "    <tr>\n",
       "      <th>0</th>\n",
       "      <td>balance</td>\n",
       "      <td>0.000000</td>\n",
       "      <td>19043.13856</td>\n",
       "      <td>19043.138560</td>\n",
       "      <td>1601.224893</td>\n",
       "      <td>916.855459</td>\n",
       "      <td>2095.449969</td>\n",
       "      <td>2.374254</td>\n",
       "      <td>7.553876</td>\n",
       "      <td>29.093764</td>\n",
       "      <td>148.095189</td>\n",
       "      <td>916.855459</td>\n",
       "      <td>2105.195853</td>\n",
       "      <td>5936.635587</td>\n",
       "      <td>9369.550879</td>\n",
       "    </tr>\n",
       "    <tr>\n",
       "      <th>1</th>\n",
       "      <td>balance_frequency</td>\n",
       "      <td>0.000000</td>\n",
       "      <td>1.00000</td>\n",
       "      <td>1.000000</td>\n",
       "      <td>0.895035</td>\n",
       "      <td>1.000000</td>\n",
       "      <td>0.207685</td>\n",
       "      <td>-2.084161</td>\n",
       "      <td>3.369586</td>\n",
       "      <td>0.545455</td>\n",
       "      <td>0.909091</td>\n",
       "      <td>1.000000</td>\n",
       "      <td>1.000000</td>\n",
       "      <td>1.000000</td>\n",
       "      <td>1.000000</td>\n",
       "    </tr>\n",
       "    <tr>\n",
       "      <th>2</th>\n",
       "      <td>purchases</td>\n",
       "      <td>0.000000</td>\n",
       "      <td>49039.57000</td>\n",
       "      <td>49039.570000</td>\n",
       "      <td>1025.433874</td>\n",
       "      <td>375.405000</td>\n",
       "      <td>2166.982511</td>\n",
       "      <td>8.055789</td>\n",
       "      <td>108.677684</td>\n",
       "      <td>0.000000</td>\n",
       "      <td>43.367500</td>\n",
       "      <td>375.405000</td>\n",
       "      <td>1145.980000</td>\n",
       "      <td>4060.092500</td>\n",
       "      <td>9127.092000</td>\n",
       "    </tr>\n",
       "    <tr>\n",
       "      <th>3</th>\n",
       "      <td>oneoff_purchases</td>\n",
       "      <td>0.000000</td>\n",
       "      <td>40761.25000</td>\n",
       "      <td>40761.250000</td>\n",
       "      <td>604.901438</td>\n",
       "      <td>44.995000</td>\n",
       "      <td>1684.210284</td>\n",
       "      <td>9.935776</td>\n",
       "      <td>160.121308</td>\n",
       "      <td>0.000000</td>\n",
       "      <td>0.000000</td>\n",
       "      <td>44.995000</td>\n",
       "      <td>599.100000</td>\n",
       "      <td>2728.372500</td>\n",
       "      <td>6783.896500</td>\n",
       "    </tr>\n",
       "    <tr>\n",
       "      <th>4</th>\n",
       "      <td>installments_purchases</td>\n",
       "      <td>0.000000</td>\n",
       "      <td>22500.00000</td>\n",
       "      <td>22500.000000</td>\n",
       "      <td>420.843533</td>\n",
       "      <td>94.785000</td>\n",
       "      <td>917.192075</td>\n",
       "      <td>7.216133</td>\n",
       "      <td>94.193373</td>\n",
       "      <td>0.000000</td>\n",
       "      <td>0.000000</td>\n",
       "      <td>94.785000</td>\n",
       "      <td>484.147500</td>\n",
       "      <td>1800.000000</td>\n",
       "      <td>3916.483000</td>\n",
       "    </tr>\n",
       "    <tr>\n",
       "      <th>5</th>\n",
       "      <td>cash_advance</td>\n",
       "      <td>0.000000</td>\n",
       "      <td>47137.21176</td>\n",
       "      <td>47137.211760</td>\n",
       "      <td>994.175523</td>\n",
       "      <td>0.000000</td>\n",
       "      <td>2121.335473</td>\n",
       "      <td>5.139629</td>\n",
       "      <td>52.143523</td>\n",
       "      <td>0.000000</td>\n",
       "      <td>0.000000</td>\n",
       "      <td>0.000000</td>\n",
       "      <td>1132.385490</td>\n",
       "      <td>4721.415498</td>\n",
       "      <td>9681.634354</td>\n",
       "    </tr>\n",
       "    <tr>\n",
       "      <th>6</th>\n",
       "      <td>purchases_frequency</td>\n",
       "      <td>0.000000</td>\n",
       "      <td>1.00000</td>\n",
       "      <td>1.000000</td>\n",
       "      <td>0.496000</td>\n",
       "      <td>0.500000</td>\n",
       "      <td>0.401249</td>\n",
       "      <td>0.033041</td>\n",
       "      <td>-1.638001</td>\n",
       "      <td>0.000000</td>\n",
       "      <td>0.083333</td>\n",
       "      <td>0.500000</td>\n",
       "      <td>0.916667</td>\n",
       "      <td>1.000000</td>\n",
       "      <td>1.000000</td>\n",
       "    </tr>\n",
       "    <tr>\n",
       "      <th>7</th>\n",
       "      <td>oneoff_purchases_frequency</td>\n",
       "      <td>0.000000</td>\n",
       "      <td>1.00000</td>\n",
       "      <td>1.000000</td>\n",
       "      <td>0.205909</td>\n",
       "      <td>0.083333</td>\n",
       "      <td>0.300036</td>\n",
       "      <td>1.504234</td>\n",
       "      <td>1.058206</td>\n",
       "      <td>0.000000</td>\n",
       "      <td>0.000000</td>\n",
       "      <td>0.083333</td>\n",
       "      <td>0.333333</td>\n",
       "      <td>1.000000</td>\n",
       "      <td>1.000000</td>\n",
       "    </tr>\n",
       "    <tr>\n",
       "      <th>8</th>\n",
       "      <td>purchases_installments_frequency</td>\n",
       "      <td>0.000000</td>\n",
       "      <td>1.00000</td>\n",
       "      <td>1.000000</td>\n",
       "      <td>0.368820</td>\n",
       "      <td>0.166667</td>\n",
       "      <td>0.398070</td>\n",
       "      <td>0.487753</td>\n",
       "      <td>-1.419279</td>\n",
       "      <td>0.000000</td>\n",
       "      <td>0.000000</td>\n",
       "      <td>0.166667</td>\n",
       "      <td>0.750000</td>\n",
       "      <td>1.000000</td>\n",
       "      <td>1.000000</td>\n",
       "    </tr>\n",
       "    <tr>\n",
       "      <th>9</th>\n",
       "      <td>cash_advance_frequency</td>\n",
       "      <td>0.000000</td>\n",
       "      <td>1.50000</td>\n",
       "      <td>1.500000</td>\n",
       "      <td>0.137604</td>\n",
       "      <td>0.000000</td>\n",
       "      <td>0.201780</td>\n",
       "      <td>1.795915</td>\n",
       "      <td>3.184233</td>\n",
       "      <td>0.000000</td>\n",
       "      <td>0.000000</td>\n",
       "      <td>0.000000</td>\n",
       "      <td>0.250000</td>\n",
       "      <td>0.583333</td>\n",
       "      <td>0.833333</td>\n",
       "    </tr>\n",
       "    <tr>\n",
       "      <th>10</th>\n",
       "      <td>cash_advance_trx</td>\n",
       "      <td>0.000000</td>\n",
       "      <td>123.00000</td>\n",
       "      <td>123.000000</td>\n",
       "      <td>3.313918</td>\n",
       "      <td>0.000000</td>\n",
       "      <td>6.912106</td>\n",
       "      <td>5.673327</td>\n",
       "      <td>60.428523</td>\n",
       "      <td>0.000000</td>\n",
       "      <td>0.000000</td>\n",
       "      <td>0.000000</td>\n",
       "      <td>4.000000</td>\n",
       "      <td>15.000000</td>\n",
       "      <td>30.000000</td>\n",
       "    </tr>\n",
       "    <tr>\n",
       "      <th>11</th>\n",
       "      <td>purchases_trx</td>\n",
       "      <td>0.000000</td>\n",
       "      <td>358.00000</td>\n",
       "      <td>358.000000</td>\n",
       "      <td>15.033233</td>\n",
       "      <td>7.000000</td>\n",
       "      <td>25.179010</td>\n",
       "      <td>4.578418</td>\n",
       "      <td>33.952279</td>\n",
       "      <td>0.000000</td>\n",
       "      <td>1.000000</td>\n",
       "      <td>7.000000</td>\n",
       "      <td>18.000000</td>\n",
       "      <td>59.000000</td>\n",
       "      <td>117.650000</td>\n",
       "    </tr>\n",
       "    <tr>\n",
       "      <th>12</th>\n",
       "      <td>credit_limit</td>\n",
       "      <td>50.000000</td>\n",
       "      <td>30000.00000</td>\n",
       "      <td>29950.000000</td>\n",
       "      <td>4522.091030</td>\n",
       "      <td>3000.000000</td>\n",
       "      <td>3659.028513</td>\n",
       "      <td>1.507019</td>\n",
       "      <td>2.773473</td>\n",
       "      <td>1200.000000</td>\n",
       "      <td>1600.000000</td>\n",
       "      <td>3000.000000</td>\n",
       "      <td>6500.000000</td>\n",
       "      <td>12000.000000</td>\n",
       "      <td>17000.000000</td>\n",
       "    </tr>\n",
       "    <tr>\n",
       "      <th>13</th>\n",
       "      <td>payments</td>\n",
       "      <td>0.049513</td>\n",
       "      <td>50721.48336</td>\n",
       "      <td>50721.433847</td>\n",
       "      <td>1784.478099</td>\n",
       "      <td>896.675701</td>\n",
       "      <td>2909.641616</td>\n",
       "      <td>5.873049</td>\n",
       "      <td>54.270814</td>\n",
       "      <td>214.777650</td>\n",
       "      <td>418.559237</td>\n",
       "      <td>896.675701</td>\n",
       "      <td>1951.142090</td>\n",
       "      <td>6152.318659</td>\n",
       "      <td>13657.620792</td>\n",
       "    </tr>\n",
       "    <tr>\n",
       "      <th>14</th>\n",
       "      <td>minimum_payments</td>\n",
       "      <td>0.019163</td>\n",
       "      <td>76406.20752</td>\n",
       "      <td>76406.188357</td>\n",
       "      <td>864.304943</td>\n",
       "      <td>312.452292</td>\n",
       "      <td>2372.428981</td>\n",
       "      <td>13.622193</td>\n",
       "      <td>283.963042</td>\n",
       "      <td>106.113465</td>\n",
       "      <td>169.163545</td>\n",
       "      <td>312.452292</td>\n",
       "      <td>825.496463</td>\n",
       "      <td>2766.593894</td>\n",
       "      <td>9037.885662</td>\n",
       "    </tr>\n",
       "    <tr>\n",
       "      <th>15</th>\n",
       "      <td>prc_full_payment</td>\n",
       "      <td>0.000000</td>\n",
       "      <td>1.00000</td>\n",
       "      <td>1.000000</td>\n",
       "      <td>0.159304</td>\n",
       "      <td>0.000000</td>\n",
       "      <td>0.296254</td>\n",
       "      <td>1.886027</td>\n",
       "      <td>2.201598</td>\n",
       "      <td>0.000000</td>\n",
       "      <td>0.000000</td>\n",
       "      <td>0.000000</td>\n",
       "      <td>0.166667</td>\n",
       "      <td>1.000000</td>\n",
       "      <td>1.000000</td>\n",
       "    </tr>\n",
       "    <tr>\n",
       "      <th>16</th>\n",
       "      <td>tenure</td>\n",
       "      <td>6.000000</td>\n",
       "      <td>12.00000</td>\n",
       "      <td>6.000000</td>\n",
       "      <td>11.534391</td>\n",
       "      <td>12.000000</td>\n",
       "      <td>1.310908</td>\n",
       "      <td>-3.011141</td>\n",
       "      <td>8.156701</td>\n",
       "      <td>10.000000</td>\n",
       "      <td>12.000000</td>\n",
       "      <td>12.000000</td>\n",
       "      <td>12.000000</td>\n",
       "      <td>12.000000</td>\n",
       "      <td>12.000000</td>\n",
       "    </tr>\n",
       "  </tbody>\n",
       "</table>\n",
       "</div>"
      ],
      "text/plain": [
       "                          attributes        min          max         range  \\\n",
       "0                            balance   0.000000  19043.13856  19043.138560   \n",
       "1                  balance_frequency   0.000000      1.00000      1.000000   \n",
       "2                          purchases   0.000000  49039.57000  49039.570000   \n",
       "3                   oneoff_purchases   0.000000  40761.25000  40761.250000   \n",
       "4             installments_purchases   0.000000  22500.00000  22500.000000   \n",
       "5                       cash_advance   0.000000  47137.21176  47137.211760   \n",
       "6                purchases_frequency   0.000000      1.00000      1.000000   \n",
       "7         oneoff_purchases_frequency   0.000000      1.00000      1.000000   \n",
       "8   purchases_installments_frequency   0.000000      1.00000      1.000000   \n",
       "9             cash_advance_frequency   0.000000      1.50000      1.500000   \n",
       "10                  cash_advance_trx   0.000000    123.00000    123.000000   \n",
       "11                     purchases_trx   0.000000    358.00000    358.000000   \n",
       "12                      credit_limit  50.000000  30000.00000  29950.000000   \n",
       "13                          payments   0.049513  50721.48336  50721.433847   \n",
       "14                  minimum_payments   0.019163  76406.20752  76406.188357   \n",
       "15                  prc_full_payment   0.000000      1.00000      1.000000   \n",
       "16                            tenure   6.000000     12.00000      6.000000   \n",
       "\n",
       "           mean       median  std deviation   skewness    kurtosis  \\\n",
       "0   1601.224893   916.855459    2095.449969   2.374254    7.553876   \n",
       "1      0.895035     1.000000       0.207685  -2.084161    3.369586   \n",
       "2   1025.433874   375.405000    2166.982511   8.055789  108.677684   \n",
       "3    604.901438    44.995000    1684.210284   9.935776  160.121308   \n",
       "4    420.843533    94.785000     917.192075   7.216133   94.193373   \n",
       "5    994.175523     0.000000    2121.335473   5.139629   52.143523   \n",
       "6      0.496000     0.500000       0.401249   0.033041   -1.638001   \n",
       "7      0.205909     0.083333       0.300036   1.504234    1.058206   \n",
       "8      0.368820     0.166667       0.398070   0.487753   -1.419279   \n",
       "9      0.137604     0.000000       0.201780   1.795915    3.184233   \n",
       "10     3.313918     0.000000       6.912106   5.673327   60.428523   \n",
       "11    15.033233     7.000000      25.179010   4.578418   33.952279   \n",
       "12  4522.091030  3000.000000    3659.028513   1.507019    2.773473   \n",
       "13  1784.478099   896.675701    2909.641616   5.873049   54.270814   \n",
       "14   864.304943   312.452292    2372.428981  13.622193  283.963042   \n",
       "15     0.159304     0.000000       0.296254   1.886027    2.201598   \n",
       "16    11.534391    12.000000       1.310908  -3.011141    8.156701   \n",
       "\n",
       "            P10          P25          P50          P75           P95  \\\n",
       "0     29.093764   148.095189   916.855459  2105.195853   5936.635587   \n",
       "1      0.545455     0.909091     1.000000     1.000000      1.000000   \n",
       "2      0.000000    43.367500   375.405000  1145.980000   4060.092500   \n",
       "3      0.000000     0.000000    44.995000   599.100000   2728.372500   \n",
       "4      0.000000     0.000000    94.785000   484.147500   1800.000000   \n",
       "5      0.000000     0.000000     0.000000  1132.385490   4721.415498   \n",
       "6      0.000000     0.083333     0.500000     0.916667      1.000000   \n",
       "7      0.000000     0.000000     0.083333     0.333333      1.000000   \n",
       "8      0.000000     0.000000     0.166667     0.750000      1.000000   \n",
       "9      0.000000     0.000000     0.000000     0.250000      0.583333   \n",
       "10     0.000000     0.000000     0.000000     4.000000     15.000000   \n",
       "11     0.000000     1.000000     7.000000    18.000000     59.000000   \n",
       "12  1200.000000  1600.000000  3000.000000  6500.000000  12000.000000   \n",
       "13   214.777650   418.559237   896.675701  1951.142090   6152.318659   \n",
       "14   106.113465   169.163545   312.452292   825.496463   2766.593894   \n",
       "15     0.000000     0.000000     0.000000     0.166667      1.000000   \n",
       "16    10.000000    12.000000    12.000000    12.000000     12.000000   \n",
       "\n",
       "             P99  \n",
       "0    9369.550879  \n",
       "1       1.000000  \n",
       "2    9127.092000  \n",
       "3    6783.896500  \n",
       "4    3916.483000  \n",
       "5    9681.634354  \n",
       "6       1.000000  \n",
       "7       1.000000  \n",
       "8       1.000000  \n",
       "9       0.833333  \n",
       "10     30.000000  \n",
       "11    117.650000  \n",
       "12  17000.000000  \n",
       "13  13657.620792  \n",
       "14   9037.885662  \n",
       "15      1.000000  \n",
       "16     12.000000  "
      ]
     },
     "execution_count": 69,
     "metadata": {},
     "output_type": "execute_result"
    }
   ],
   "source": [
    "# estimadores de localicação\n",
    "est1 = pd.DataFrame(num_attributes.apply(np.mean)).T\n",
    "est2 = pd.DataFrame(num_attributes.apply(np.median)).T\n",
    "est3 = pd.DataFrame(num_attributes.apply(np.min)).T\n",
    "est4 = pd.DataFrame(num_attributes.apply(np.max)).T\n",
    "\n",
    "# estimadores de variabilidade\n",
    "est5 = pd.DataFrame(num_attributes.apply(np.std)).T\n",
    "est6 = pd.DataFrame(num_attributes.apply( lambda x: x.max() - x.min())).T\n",
    "\n",
    "# skewness and kurtosis\n",
    "est7 = pd.DataFrame(num_attributes.apply( lambda x: x.skew() )).T\n",
    "est8 = pd.DataFrame(num_attributes.apply( lambda x: x.kurtosis())).T\n",
    "\n",
    "# conatenate\n",
    "m1 = pd.concat([est3, est4, est6, est1, est2, est5, est7, est8]).T.reset_index()\n",
    "m1.columns = ['attributes', 'min', 'max', 'range', 'mean', 'median', 'std deviation', 'skewness', 'kurtosis']\n",
    "m1\n",
    "\n",
    "# percentis\n",
    "quartis = num_attributes.apply( lambda x: np.quantile( x, q=[0.10, 0.25, 0.50, 0.75, 0.95, 0.99])).T.reset_index()\n",
    "quartis.columns = ['attributes', 'P10', 'P25', 'P50', 'P75', 'P95', 'P99']\n",
    "\n",
    "#\n",
    "m2 = pd.merge(m1, quartis, how='inner', on='attributes')\n",
    "m2"
   ]
  },
  {
   "cell_type": "markdown",
   "metadata": {},
   "source": [
    "### 1.6.2. Categorical Attributes"
   ]
  },
  {
   "cell_type": "code",
   "execution_count": 74,
   "metadata": {},
   "outputs": [
    {
     "data": {
      "text/plain": [
       "<AxesSubplot:xlabel='purchases_trx', ylabel='Density'>"
      ]
     },
     "execution_count": 74,
     "metadata": {},
     "output_type": "execute_result"
    },
    {
     "data": {
      "image/png": "[encoded data removed]",
      "text/plain": [
       "<Figure size 1080x720 with 1 Axes>"
      ]
     },
     "metadata": {
      "needs_background": "light"
     },
     "output_type": "display_data"
    }
   ],
   "source": [
    "plt.figure(figsize=(15,10))\n",
    "sns.kdeplot(num_attributes['purchases_trx'])"
   ]
  },
  {
   "cell_type": "code",
   "execution_count": 75,
   "metadata": {},
   "outputs": [
    {
     "data": {
      "image/png": "[encoded data removed]",
      "text/plain": [
       "<Figure size 1080x720 with 1 Axes>"
      ]
     },
     "metadata": {
      "needs_background": "light"
     },
     "output_type": "display_data"
    }
   ],
   "source": [
    "plt.figure(figsize=(15,10))\n",
    "sns.boxplot(x='purchases_trx', data= num_attributes);"
   ]
  },
  {
   "cell_type": "code",
   "execution_count": 76,
   "metadata": {},
   "outputs": [
    {
     "data": {
      "text/plain": [
       "array([ 1.,  7., 18.])"
      ]
     },
     "execution_count": 76,
     "metadata": {},
     "output_type": "execute_result"
    }
   ],
   "source": [
    "np.quantile(num_attributes['purchases_trx'], q=[0.25, 0.50, 0.75])"
   ]
  },
  {
   "cell_type": "code",
   "execution_count": 41,
   "metadata": {},
   "outputs": [
    {
     "data": {
      "text/plain": [
       "-850.0"
      ]
     },
     "execution_count": 41,
     "metadata": {},
     "output_type": "execute_result"
    }
   ],
   "source": [
    "q3 = 6500\n",
    "q2 = 3000\n",
    "q1 = 1600\n",
    "\n",
    "q3 - 1.5 *( q3-q1)"
   ]
  },
  {
   "cell_type": "code",
   "execution_count": 72,
   "metadata": {},
   "outputs": [
    {
     "data": {
      "image/png": "[encoded data removed]",
      "text/plain": [
       "<Figure size 1080x720 with 1 Axes>"
      ]
     },
     "metadata": {
      "needs_background": "light"
     },
     "output_type": "display_data"
    }
   ],
   "source": [
    "plt.figure(figsize=(15,10))\n",
    "sns.violinplot(x='purchases_frequency', data= num_attributes);"
   ]
  },
  {
   "cell_type": "code",
   "execution_count": 77,
   "metadata": {},
   "outputs": [
    {
     "data": {
      "image/png": "[encoded data removed]",
      "text/plain": [
       "<Figure size 1440x720 with 1 Axes>"
      ]
     },
     "metadata": {
      "needs_background": "light"
     },
     "output_type": "display_data"
    }
   ],
   "source": [
    "plt.figure(figsize=(20,10))\n",
    "sns.histplot(x='purchases_trx', data= num_attributes, kde=True);"
   ]
  },
  {
   "cell_type": "markdown",
   "metadata": {},
   "source": [
    "# 2.0. Data Filtering"
   ]
  },
  {
   "cell_type": "code",
   "execution_count": 78,
   "metadata": {},
   "outputs": [],
   "source": [
    "df20 = df01.copy()"
   ]
  },
  {
   "cell_type": "markdown",
   "metadata": {},
   "source": [
    "# 3.0. Feature Engineering"
   ]
  },
  {
   "cell_type": "code",
   "execution_count": null,
   "metadata": {},
   "outputs": [],
   "source": [
    "df30 = "
   ]
  },
  {
   "cell_type": "markdown",
   "metadata": {},
   "source": [
    "# 4.0. EDA - Space Study"
   ]
  },
  {
   "cell_type": "markdown",
   "metadata": {},
   "source": [
    "# 5.0. Data Preparation"
   ]
  },
  {
   "cell_type": "markdown",
   "metadata": {},
   "source": [
    "# 6.0. Feature Selection"
   ]
  },
  {
   "cell_type": "code",
   "execution_count": null,
   "metadata": {},
   "outputs": [],
   "source": [
    "cols_drop = ['cust_id']\n",
    "X = df01.drop(columns = cols_drop)"
   ]
  },
  {
   "cell_type": "markdown",
   "metadata": {},
   "source": [
    "# 7.0. - Hyperparameter Fine-Tunning"
   ]
  },
  {
   "cell_type": "markdown",
   "metadata": {},
   "source": [
    "## 7.1. K-Means"
   ]
  },
  {
   "cell_type": "code",
   "execution_count": null,
   "metadata": {},
   "outputs": [],
   "source": [
    "clusters = [2, 3, 4, 5, 6, 7, 8]\n",
    "\n",
    "silhouette_list = []\n",
    "davies_list = []\n",
    "\n",
    "for k in clusters:\n",
    "    # model definition\n",
    "    kmeans_model = c.KMeans (n_clusters = k)\n",
    "\n",
    "    # model training\n",
    "    kmeans_model.fit(X)\n",
    "\n",
    "    # model predict\n",
    "    labels = kmeans_model.predict(X)\n",
    "\n",
    "    # model performance\n",
    "    sil = m.silhouette_score( X, labels)\n",
    "    dav = m.davies_bouldin_score( X, labels)\n",
    "    silhouette_list.append(sil)\n",
    "    davies_list.append(dav)"
   ]
  },
  {
   "cell_type": "code",
   "execution_count": null,
   "metadata": {},
   "outputs": [
    {
     "data": {
      "text/plain": [
       "Text(0.5, 1.0, 'Silhouette Sore')"
      ]
     },
     "execution_count": 15,
     "metadata": {},
     "output_type": "execute_result"
    },
    {
     "data": {
      "image/png": "[encoded data removed]",
      "text/plain": [
       "<Figure size 1080x720 with 1 Axes>"
      ]
     },
     "metadata": {
      "needs_background": "light"
     },
     "output_type": "display_data"
    }
   ],
   "source": [
    "plt.figure( figsize=(15, 10 ))\n",
    "plt.plot( clusters, silhouette_list, linestyle = '--', marker = 'o', color = 'b');\n",
    "plt.xlabel('K - Number of clusters')\n",
    "plt.ylabel( 'SS - Silhouette Sore')\n",
    "plt.title( 'Silhouette Sore')"
   ]
  },
  {
   "cell_type": "code",
   "execution_count": null,
   "metadata": {},
   "outputs": [
    {
     "data": {
      "text/plain": [
       "Text(0.5, 1.0, 'DB Index')"
      ]
     },
     "execution_count": 16,
     "metadata": {},
     "output_type": "execute_result"
    },
    {
     "data": {
      "image/png": "[encoded data removed]",
      "text/plain": [
       "<Figure size 1080x720 with 1 Axes>"
      ]
     },
     "metadata": {
      "needs_background": "light"
     },
     "output_type": "display_data"
    }
   ],
   "source": [
    "plt.figure( figsize=(15, 10 ))\n",
    "plt.plot( clusters, davies_list, linestyle = '--', marker = 'o', color = 'b');\n",
    "plt.xlabel('K - Number of clusters')\n",
    "plt.ylabel( 'DB Score')\n",
    "plt.title( 'DB Index')"
   ]
  },
  {
   "cell_type": "markdown",
   "metadata": {},
   "source": [
    "# 8.0. Machine Learning Training"
   ]
  },
  {
   "cell_type": "markdown",
   "metadata": {},
   "source": [
    "# 9.0. Clustering Analysis"
   ]
  },
  {
   "cell_type": "markdown",
   "metadata": {},
   "source": [
    "# 10.0. EDA - Insight Reports"
   ]
  },
  {
   "cell_type": "markdown",
   "metadata": {},
   "source": [
    "# 11.0. Deploy to Production"
   ]
  },
  {
   "cell_type": "markdown",
   "metadata": {},
   "source": []
  }
 ],
 "metadata": {
  "hide_input": false,
  "interpreter": {
   "hash": "a9ca4e71067c79ac42447b325c829b70f15b9ca9e8b0d165bf304148d1e80458"
  },
  "kernelspec": {
   "display_name": "Python 3 (ipykernel)",
   "language": "python",
   "name": "python3"
  },
  "language_info": {
   "codemirror_mode": {
    "name": "ipython",
    "version": 3
   },
   "file_extension": ".py",
   "mimetype": "text/x-python",
   "name": "python",
   "nbconvert_exporter": "python",
   "pygments_lexer": "ipython3",
   "version": "3.9.10"
  },
  "toc": {
   "base_numbering": 1,
   "nav_menu": {},
   "number_sections": true,
   "sideBar": true,
   "skip_h1_title": false,
   "title_cell": "Table of Contents",
   "title_sidebar": "Contents",
   "toc_cell": false,
   "toc_position": {},
   "toc_section_display": true,
   "toc_window_display": false
  }
 },
 "nbformat": 4,
 "nbformat_minor": 2
}
